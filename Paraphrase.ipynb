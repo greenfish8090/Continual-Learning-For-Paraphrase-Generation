{
 "cells": [
  {
   "cell_type": "code",
   "execution_count": 1,
   "id": "3d1057da",
   "metadata": {},
   "outputs": [],
   "source": [
    "from transformers import AdamW, T5ForConditionalGeneration, T5Tokenizer, Trainer, TrainingArguments, get_scheduler\n",
    "from datasets import load_dataset, load_metric\n",
    "import datasets\n",
    "import torch\n",
    "from torch import nn\n",
    "from torch.nn import functional as F\n",
    "from torch.utils.data import DataLoader\n",
    "import gc\n",
    "from tqdm.auto import tqdm\n",
    "import random\n",
    "from copy import deepcopy\n",
    "import matplotlib.pyplot as plt\n",
    "from collections import defaultdict"
   ]
  },
  {
   "cell_type": "code",
   "execution_count": 2,
   "id": "2a37f897",
   "metadata": {},
   "outputs": [
    {
     "data": {
      "text/plain": [
       "device(type='cuda')"
      ]
     },
     "execution_count": 2,
     "metadata": {},
     "output_type": "execute_result"
    }
   ],
   "source": [
    "device = torch.device('cuda' if torch.cuda.is_available else 'cpu')\n",
    "device"
   ]
  },
  {
   "cell_type": "code",
   "execution_count": 3,
   "id": "38b1cda9",
   "metadata": {},
   "outputs": [],
   "source": [
    "tokenizer = T5Tokenizer.from_pretrained('t5-small')\n",
    "model = T5ForConditionalGeneration.from_pretrained('t5-small').to(device)"
   ]
  },
  {
   "cell_type": "code",
   "execution_count": 4,
   "id": "3907b1eb",
   "metadata": {},
   "outputs": [
    {
     "data": {
      "text/plain": [
       "242026496"
      ]
     },
     "execution_count": 4,
     "metadata": {},
     "output_type": "execute_result"
    }
   ],
   "source": [
    "torch.cuda.memory_allocated(device=device)"
   ]
  },
  {
   "cell_type": "code",
   "execution_count": 5,
   "id": "2d03011d",
   "metadata": {},
   "outputs": [
    {
     "name": "stderr",
     "output_type": "stream",
     "text": [
      "Reusing dataset squad (C:\\Users\\Pranav\\.cache\\huggingface\\datasets\\squad\\plain_text\\1.0.0\\d6ec3ceb99ca480ce37cdd35555d6cb2511d223b9150cce08a837ef62ffea453)\n"
     ]
    },
    {
     "data": {
      "application/vnd.jupyter.widget-view+json": {
       "model_id": "75cd954d7e58452c970dc2f20d2f64ee",
       "version_major": 2,
       "version_minor": 0
      },
      "text/plain": [
       "HBox(children=(FloatProgress(value=0.0, max=2.0), HTML(value='')))"
      ]
     },
     "metadata": {},
     "output_type": "display_data"
    },
    {
     "name": "stderr",
     "output_type": "stream",
     "text": [
      "Loading cached processed dataset at C:\\Users\\Pranav\\.cache\\huggingface\\datasets\\squad\\plain_text\\1.0.0\\d6ec3ceb99ca480ce37cdd35555d6cb2511d223b9150cce08a837ef62ffea453\\cache-ecd5ee8576e1cf08.arrow\n",
      "Loading cached processed dataset at C:\\Users\\Pranav\\.cache\\huggingface\\datasets\\squad\\plain_text\\1.0.0\\d6ec3ceb99ca480ce37cdd35555d6cb2511d223b9150cce08a837ef62ffea453\\cache-3365be9634cfe8c0.arrow\n"
     ]
    },
    {
     "name": "stdout",
     "output_type": "stream",
     "text": [
      "\n"
     ]
    }
   ],
   "source": [
    "squad_raw = load_dataset('squad')\n",
    "def preprocess_squad(examples):\n",
    "    return {'id': examples['id'],\n",
    "            'src':\n",
    "                ['question: ' + question + ' context: ' + context\n",
    "                 for question, context in zip(examples['question'], examples['context'])\n",
    "                ],\n",
    "            'trg': [answer['text'][0] for answer in examples['answers']],\n",
    "            'answers': examples['answers']\n",
    "           }\n",
    "squad = squad_raw.map(preprocess_squad, batched=True, remove_columns=squad_raw['train'].column_names)"
   ]
  },
  {
   "cell_type": "code",
   "execution_count": 6,
   "id": "8be16973",
   "metadata": {},
   "outputs": [],
   "source": [
    "squad_metric = load_metric(\"squad\")"
   ]
  },
  {
   "cell_type": "code",
   "execution_count": 7,
   "id": "f7ec9443",
   "metadata": {
    "scrolled": false
   },
   "outputs": [],
   "source": [
    "def eval_squad(model, n):\n",
    "    progress_bar = tqdm(range(n))\n",
    "    shuffled = squad['validation'].shuffle()\n",
    "    model.eval()\n",
    "    b_size = 8\n",
    "    start = 0\n",
    "    end = b_size\n",
    "    exists = True\n",
    "    model.eval()\n",
    "    while exists:\n",
    "        examples = shuffled[start: end]\n",
    "        input_ids = tokenizer(examples['src'], return_tensors=\"pt\", padding=True).input_ids.to(device)\n",
    "        with torch.no_grad():\n",
    "            outputs = model.generate(input_ids=input_ids)\n",
    "\n",
    "        decoded = [{'id': ide, 'prediction_text': tokenizer.decode(outputs[i], skip_special_tokens=True)} for i, ide in zip(range(len(examples['id'])), examples['id'])]\n",
    "        refs = [{'id': examples['id'][i], 'answers': ans} for i, ans in enumerate(examples['answers'])]\n",
    "        squad_metric.add_batch(predictions=decoded, references=refs)\n",
    "        progress_bar.update(len(examples['id']))\n",
    "        start = end\n",
    "        end = end + b_size\n",
    "        del input_ids\n",
    "        del outputs\n",
    "        if end > n:\n",
    "            break\n",
    "\n",
    "    return squad_metric.compute()"
   ]
  },
  {
   "cell_type": "code",
   "execution_count": 8,
   "id": "68080114",
   "metadata": {},
   "outputs": [
    {
     "name": "stderr",
     "output_type": "stream",
     "text": [
      "Reusing dataset glue (C:\\Users\\Pranav\\.cache\\huggingface\\datasets\\glue\\mnli\\1.0.0\\dacbe3125aa31d7f70367a07a8a9e72a5a0bfeb5fc42e75c9db75b96da6053ad)\n"
     ]
    },
    {
     "data": {
      "application/vnd.jupyter.widget-view+json": {
       "model_id": "bcced57bb93948ee8d3213a2540b9034",
       "version_major": 2,
       "version_minor": 0
      },
      "text/plain": [
       "HBox(children=(FloatProgress(value=0.0, max=5.0), HTML(value='')))"
      ]
     },
     "metadata": {},
     "output_type": "display_data"
    },
    {
     "name": "stderr",
     "output_type": "stream",
     "text": [
      "Loading cached processed dataset at C:\\Users\\Pranav\\.cache\\huggingface\\datasets\\glue\\mnli\\1.0.0\\dacbe3125aa31d7f70367a07a8a9e72a5a0bfeb5fc42e75c9db75b96da6053ad\\cache-e64beea803f99dd4.arrow\n",
      "Loading cached processed dataset at C:\\Users\\Pranav\\.cache\\huggingface\\datasets\\glue\\mnli\\1.0.0\\dacbe3125aa31d7f70367a07a8a9e72a5a0bfeb5fc42e75c9db75b96da6053ad\\cache-7ef27216f2d96777.arrow\n",
      "Loading cached processed dataset at C:\\Users\\Pranav\\.cache\\huggingface\\datasets\\glue\\mnli\\1.0.0\\dacbe3125aa31d7f70367a07a8a9e72a5a0bfeb5fc42e75c9db75b96da6053ad\\cache-0602151f1c07f844.arrow\n",
      "Loading cached processed dataset at C:\\Users\\Pranav\\.cache\\huggingface\\datasets\\glue\\mnli\\1.0.0\\dacbe3125aa31d7f70367a07a8a9e72a5a0bfeb5fc42e75c9db75b96da6053ad\\cache-668a5ec0a2da5560.arrow\n",
      "Loading cached processed dataset at C:\\Users\\Pranav\\.cache\\huggingface\\datasets\\glue\\mnli\\1.0.0\\dacbe3125aa31d7f70367a07a8a9e72a5a0bfeb5fc42e75c9db75b96da6053ad\\cache-22fe2fe23baa4c74.arrow\n",
      "Loading cached processed dataset at C:\\Users\\Pranav\\.cache\\huggingface\\datasets\\glue\\mnli\\1.0.0\\dacbe3125aa31d7f70367a07a8a9e72a5a0bfeb5fc42e75c9db75b96da6053ad\\cache-c523de6e6d8da780.arrow\n",
      "Loading cached processed dataset at C:\\Users\\Pranav\\.cache\\huggingface\\datasets\\glue\\mnli\\1.0.0\\dacbe3125aa31d7f70367a07a8a9e72a5a0bfeb5fc42e75c9db75b96da6053ad\\cache-913cc9262423a493.arrow\n",
      "Loading cached processed dataset at C:\\Users\\Pranav\\.cache\\huggingface\\datasets\\glue\\mnli\\1.0.0\\dacbe3125aa31d7f70367a07a8a9e72a5a0bfeb5fc42e75c9db75b96da6053ad\\cache-25d0f1d5e9dbfdca.arrow\n"
     ]
    },
    {
     "name": "stdout",
     "output_type": "stream",
     "text": [
      "\n"
     ]
    }
   ],
   "source": [
    "mnli_raw = load_dataset('glue', 'mnli')\n",
    "mnli_i2w = {1: 'neutral', 0: 'entailment', 2: 'contradiction'}\n",
    "mnli_w2i = defaultdict(lambda: -1)\n",
    "for k, v in mnli_i2w.items():\n",
    "    mnli_w2i[v] = k\n",
    "    \n",
    "def preprocess_mnli(examples):\n",
    "    return {\n",
    "            'src':\n",
    "                ['mnli hypothesis: ' + hypothesis + ' premise: ' + premise\n",
    "                 for hypothesis, premise in zip(examples['hypothesis'], examples['premise'])\n",
    "                ],\n",
    "            'trg': [mnli_i2w[label] for label in examples['label']],\n",
    "            'label': examples['label']\n",
    "           }\n",
    "\n",
    "mnli = mnli_raw.filter(lambda example: example['label']!=-1)\n",
    "mnli = mnli.map(preprocess_mnli, batched=True, remove_columns=mnli_raw['test_matched'].column_names)"
   ]
  },
  {
   "cell_type": "code",
   "execution_count": 9,
   "id": "8a794b97",
   "metadata": {},
   "outputs": [],
   "source": [
    "mnli_metric = load_metric('glue', 'mnli')"
   ]
  },
  {
   "cell_type": "code",
   "execution_count": 10,
   "id": "609bc74c",
   "metadata": {},
   "outputs": [],
   "source": [
    "def eval_mnli(model, n, matched=True):\n",
    "    progress_bar = tqdm(range(n))\n",
    "    model.eval()\n",
    "    shuffled = mnli['validation_matched'].shuffle() if matched else mnli['validation_mismatched'].shuffle()\n",
    "    b_size = 8\n",
    "    start = 0\n",
    "    end = b_size\n",
    "    model.eval()\n",
    "    while True:\n",
    "        examples = shuffled[start: end]\n",
    "        input_ids = tokenizer(examples['src'], return_tensors=\"pt\", padding=True).input_ids.to(device)\n",
    "        with torch.no_grad():\n",
    "            outputs = model.generate(input_ids=input_ids)\n",
    "\n",
    "        outs = [mnli_w2i[w] for w in tokenizer.batch_decode(outputs, skip_special_tokens=True)]\n",
    "        mnli_metric.add_batch(predictions=outs, references=examples['label'])\n",
    "        progress_bar.update(len(examples['src']))\n",
    "        start = end\n",
    "        end = end + b_size\n",
    "        del input_ids\n",
    "        del outputs\n",
    "        if end > n:\n",
    "            break\n",
    "\n",
    "    return mnli_metric.compute()"
   ]
  },
  {
   "cell_type": "code",
   "execution_count": 11,
   "id": "019755bc",
   "metadata": {},
   "outputs": [
    {
     "name": "stderr",
     "output_type": "stream",
     "text": [
      "Reusing dataset paws (C:\\Users\\Pranav\\.cache\\huggingface\\datasets\\paws\\labeled_final\\1.1.0\\09d8fae989bb569009a8f5b879ccf2924d3e5cd55bfe2e89e6dab1c0b50ecd34)\n"
     ]
    },
    {
     "data": {
      "application/vnd.jupyter.widget-view+json": {
       "model_id": "80f948fb7a2b41b1be48f6ad9e9793b2",
       "version_major": 2,
       "version_minor": 0
      },
      "text/plain": [
       "HBox(children=(FloatProgress(value=0.0, max=3.0), HTML(value='')))"
      ]
     },
     "metadata": {},
     "output_type": "display_data"
    },
    {
     "name": "stderr",
     "output_type": "stream",
     "text": [
      "Loading cached processed dataset at C:\\Users\\Pranav\\.cache\\huggingface\\datasets\\paws\\labeled_final\\1.1.0\\09d8fae989bb569009a8f5b879ccf2924d3e5cd55bfe2e89e6dab1c0b50ecd34\\cache-f8f4b05c63816056.arrow\n",
      "Loading cached processed dataset at C:\\Users\\Pranav\\.cache\\huggingface\\datasets\\paws\\labeled_final\\1.1.0\\09d8fae989bb569009a8f5b879ccf2924d3e5cd55bfe2e89e6dab1c0b50ecd34\\cache-9bfc9aaee2aa1e33.arrow\n",
      "Loading cached processed dataset at C:\\Users\\Pranav\\.cache\\huggingface\\datasets\\paws\\labeled_final\\1.1.0\\09d8fae989bb569009a8f5b879ccf2924d3e5cd55bfe2e89e6dab1c0b50ecd34\\cache-274702c64a43f78c.arrow\n",
      "Loading cached processed dataset at C:\\Users\\Pranav\\.cache\\huggingface\\datasets\\paws\\labeled_final\\1.1.0\\09d8fae989bb569009a8f5b879ccf2924d3e5cd55bfe2e89e6dab1c0b50ecd34\\cache-8cfc468b57bda0be.arrow\n",
      "Loading cached processed dataset at C:\\Users\\Pranav\\.cache\\huggingface\\datasets\\paws\\labeled_final\\1.1.0\\09d8fae989bb569009a8f5b879ccf2924d3e5cd55bfe2e89e6dab1c0b50ecd34\\cache-9f16df949f420df8.arrow\n",
      "Loading cached processed dataset at C:\\Users\\Pranav\\.cache\\huggingface\\datasets\\paws\\labeled_final\\1.1.0\\09d8fae989bb569009a8f5b879ccf2924d3e5cd55bfe2e89e6dab1c0b50ecd34\\cache-eab15e7d5cfc363c.arrow\n"
     ]
    },
    {
     "name": "stdout",
     "output_type": "stream",
     "text": [
      "\n"
     ]
    }
   ],
   "source": [
    "paws_raw = load_dataset('paws', 'labeled_final')\n",
    "def preprocess_paws(examples):\n",
    "    return {\n",
    "        'sentence1': ['paraphrase: ' + example for example in examples['sentence1']] + ['paraphrase: ' + example for example in examples['sentence2']],\n",
    "        'sentence2': [example for example in examples['sentence2']] + [example for example in examples['sentence1']]\n",
    "    }\n",
    "paws = paws_raw.filter(lambda example: example['label'] == 1)\n",
    "paws = paws.map(preprocess_paws, batched=True, remove_columns=paws_raw['train'].column_names)"
   ]
  },
  {
   "cell_type": "code",
   "execution_count": 12,
   "id": "76770ac4",
   "metadata": {},
   "outputs": [
    {
     "name": "stderr",
     "output_type": "stream",
     "text": [
      "Using custom data configuration default\n",
      "Reusing dataset quora (C:\\Users\\Pranav\\.cache\\huggingface\\datasets\\quora\\default\\0.0.0\\36ba4cd42107f051a158016f1bea6ae3f4685c5df843529108a54e42d86c1e04)\n"
     ]
    },
    {
     "data": {
      "application/vnd.jupyter.widget-view+json": {
       "model_id": "5afac54a07b7488c875c12238ee67d64",
       "version_major": 2,
       "version_minor": 0
      },
      "text/plain": [
       "HBox(children=(FloatProgress(value=0.0, max=1.0), HTML(value='')))"
      ]
     },
     "metadata": {},
     "output_type": "display_data"
    },
    {
     "name": "stderr",
     "output_type": "stream",
     "text": [
      "Loading cached processed dataset at C:\\Users\\Pranav\\.cache\\huggingface\\datasets\\quora\\default\\0.0.0\\36ba4cd42107f051a158016f1bea6ae3f4685c5df843529108a54e42d86c1e04\\cache-af099628d2f3eec5.arrow\n",
      "Loading cached processed dataset at C:\\Users\\Pranav\\.cache\\huggingface\\datasets\\quora\\default\\0.0.0\\36ba4cd42107f051a158016f1bea6ae3f4685c5df843529108a54e42d86c1e04\\cache-d96aef4cdf8b017c.arrow\n",
      "Loading cached split indices for dataset at C:\\Users\\Pranav\\.cache\\huggingface\\datasets\\quora\\default\\0.0.0\\36ba4cd42107f051a158016f1bea6ae3f4685c5df843529108a54e42d86c1e04\\cache-65a21446bcb6312e.arrow and C:\\Users\\Pranav\\.cache\\huggingface\\datasets\\quora\\default\\0.0.0\\36ba4cd42107f051a158016f1bea6ae3f4685c5df843529108a54e42d86c1e04\\cache-e006783d3c4b7ff9.arrow\n"
     ]
    },
    {
     "name": "stdout",
     "output_type": "stream",
     "text": [
      "\n"
     ]
    }
   ],
   "source": [
    "qqp_raw = load_dataset('quora')\n",
    "def preprocess_qqp(examples):\n",
    "    return {\n",
    "        'sentence1': ['paraphrase: ' + example['text'][0] for example in examples['questions']] + ['paraphrase: ' + example['text'][1] for example in examples['questions']],\n",
    "        'sentence2': [example['text'][1] for example in examples['questions']] + [example['text'][0] for example in examples['questions']]\n",
    "    }\n",
    "qqp = qqp_raw.filter(lambda example: example['is_duplicate'] == True)\n",
    "qqp = qqp.map(preprocess_qqp, batched=True, remove_columns=qqp_raw['train'].column_names)\n",
    "qqp = qqp['train'].train_test_split(0.2)"
   ]
  },
  {
   "cell_type": "code",
   "execution_count": 13,
   "id": "a303659c",
   "metadata": {},
   "outputs": [],
   "source": [
    "paws_loader = DataLoader(paws['train'], shuffle=True, batch_size=8)\n",
    "qqp_loader = DataLoader(qqp['train'], shuffle=True, batch_size=8)"
   ]
  },
  {
   "cell_type": "code",
   "execution_count": 14,
   "id": "661f0a50",
   "metadata": {},
   "outputs": [],
   "source": [
    "bleu = load_metric(\"bleu\")"
   ]
  },
  {
   "cell_type": "code",
   "execution_count": 15,
   "id": "e5359701",
   "metadata": {},
   "outputs": [],
   "source": [
    "def eval_ppg(model, n, on='paws'):\n",
    "    progress_bar = tqdm(range(n))\n",
    "    model.eval()\n",
    "    shuffled = paws['test'].shuffle() if on == 'paws' else qqp['test'].shuffle()\n",
    "    b_size = 8\n",
    "    start = 0\n",
    "    end = b_size\n",
    "    model.eval()\n",
    "    while True:\n",
    "        examples = shuffled[start: end]\n",
    "        input_ids = tokenizer(examples['sentence1'], return_tensors=\"pt\", padding=True).input_ids.to(device)\n",
    "        with torch.no_grad():\n",
    "            outputs = model.generate(input_ids=input_ids)\n",
    "\n",
    "        predictions = [s.split(\" \") for s in tokenizer.batch_decode(outputs, skip_special_tokens=True)]\n",
    "        references = [[s.split(\" \")] for s in examples['sentence2']]\n",
    "        bleu.add_batch(predictions=predictions, references=references)\n",
    "        progress_bar.update(len(examples['sentence1']))\n",
    "        start = end\n",
    "        end = end + b_size\n",
    "        del input_ids\n",
    "        del outputs\n",
    "        if end > n:\n",
    "            break\n",
    "\n",
    "    return bleu.compute()"
   ]
  },
  {
   "cell_type": "code",
   "execution_count": 16,
   "id": "52fc3c35",
   "metadata": {},
   "outputs": [],
   "source": [
    "optimizer = AdamW(model.parameters(), lr=3e-4)\n",
    "num_epochs = 3\n",
    "num_training_steps_paws = num_epochs * len(paws_loader)\n",
    "num_training_steps_qqp = num_epochs * len(qqp_loader)\n",
    "lr_scheduler_paws = get_scheduler(\n",
    "    \"linear\",\n",
    "    optimizer=optimizer,\n",
    "    num_warmup_steps=0,\n",
    "    num_training_steps=num_training_steps_paws\n",
    ")\n",
    "lr_scheduler_qqp = get_scheduler(\n",
    "    \"linear\",\n",
    "    optimizer=optimizer,\n",
    "    num_warmup_steps=0,\n",
    "    num_training_steps=num_training_steps_qqp\n",
    ")"
   ]
  },
  {
   "cell_type": "code",
   "execution_count": 17,
   "id": "07b0e477",
   "metadata": {},
   "outputs": [],
   "source": [
    "normal_history = {'squad': [], 'mnli': [], 'paws': [], 'qqp': []}"
   ]
  },
  {
   "cell_type": "code",
   "execution_count": 18,
   "id": "62b65490",
   "metadata": {},
   "outputs": [],
   "source": [
    "%load_ext line_profiler\n",
    "def train(on='paws'):\n",
    "    progress_bar = tqdm(range(num_training_steps_paws)) if on=='paws' else tqdm(range(num_training_steps_qqp))\n",
    "    loader = paws_loader if on == 'paws' else qqp_loader\n",
    "    i = 0\n",
    "    convergence = False\n",
    "    prev_bleu = 100\n",
    "    model.train()\n",
    "    for epoch in range(num_epochs):\n",
    "        for batch in loader:\n",
    "            \n",
    "            if i%500 == 0:\n",
    "                s = eval_squad(model, 128)\n",
    "                m = eval_mnli(model, 128)\n",
    "                p = eval_ppg(model, 128, 'paws')\n",
    "                q = eval_ppg(model, 128, 'qqp')\n",
    "                print(s, m, p, q)\n",
    "                normal_history['squad'].append({'iter': i, 'metrics': s})\n",
    "                normal_history['mnli'].append({'iter': i, 'metrics': m})\n",
    "                normal_history['paws'].append({'iter': i, 'metrics': p})\n",
    "                normal_history['qqp'].append({'iter': i, 'metrics': q})\n",
    "                model.save_pretrained(\"checkpoints/standard/\" + str(i))\n",
    "                \n",
    "                if on == 'paws':\n",
    "                    if(abs(p['bleu'] - prev_bleu) < 2e-3):\n",
    "                        convergence = True\n",
    "                        print('Convergence reached.')\n",
    "                        break\n",
    "                    prev_bleu = p['bleu']\n",
    "                else:\n",
    "                    if(abs(q['bleu'] - prev_bleu) < 2e-3):\n",
    "                        convergence = True\n",
    "                        print('Convergence reached.')\n",
    "                        break\n",
    "                    prev_bleu = q['bleu']\n",
    "                    \n",
    "                model.train()\n",
    "                \n",
    "            input_ids = tokenizer(batch['sentence1'], return_tensors=\"pt\", padding=True).input_ids.to(device)\n",
    "            labels = tokenizer(batch['sentence2'], return_tensors=\"pt\", padding=True).input_ids.to(device)\n",
    "            outputs = model(input_ids=input_ids, labels=labels)\n",
    "            outputs.loss.backward()\n",
    "            optimizer.step()\n",
    "            if on == 'paws':\n",
    "                lr_scheduler_paws.step()\n",
    "            else:\n",
    "                lr_scheduler_qqp.step()                \n",
    "            optimizer.zero_grad()\n",
    "            del input_ids\n",
    "            del labels\n",
    "            del outputs\n",
    "            i = i + 1\n",
    "            progress_bar.update(1)\n",
    "            \n",
    "        if convergence:\n",
    "            break"
   ]
  },
  {
   "cell_type": "code",
   "execution_count": 19,
   "id": "eee25f48",
   "metadata": {
    "scrolled": true
   },
   "outputs": [
    {
     "data": {
      "application/vnd.jupyter.widget-view+json": {
       "model_id": "72e47ba3b5714791b60e9731a3c0a95b",
       "version_major": 2,
       "version_minor": 0
      },
      "text/plain": [
       "HBox(children=(FloatProgress(value=0.0, max=16374.0), HTML(value='')))"
      ]
     },
     "metadata": {},
     "output_type": "display_data"
    },
    {
     "data": {
      "application/vnd.jupyter.widget-view+json": {
       "model_id": "ac21833cdfe0447997143a3a767eab09",
       "version_major": 2,
       "version_minor": 0
      },
      "text/plain": [
       "HBox(children=(FloatProgress(value=0.0, max=128.0), HTML(value='')))"
      ]
     },
     "metadata": {},
     "output_type": "display_data"
    },
    {
     "name": "stderr",
     "output_type": "stream",
     "text": [
      "Token indices sequence length is longer than the specified maximum sequence length for this model (537 > 512). Running this sequence through the model will result in indexing errors\n"
     ]
    },
    {
     "data": {
      "application/vnd.jupyter.widget-view+json": {
       "model_id": "e5943be060084df6a7fbbc62324e6bd2",
       "version_major": 2,
       "version_minor": 0
      },
      "text/plain": [
       "HBox(children=(FloatProgress(value=0.0, max=128.0), HTML(value='')))"
      ]
     },
     "metadata": {},
     "output_type": "display_data"
    },
    {
     "name": "stdout",
     "output_type": "stream",
     "text": [
      "\n"
     ]
    },
    {
     "data": {
      "application/vnd.jupyter.widget-view+json": {
       "model_id": "2717ef8b18584133ab5f09c43fb06793",
       "version_major": 2,
       "version_minor": 0
      },
      "text/plain": [
       "HBox(children=(FloatProgress(value=0.0, max=128.0), HTML(value='')))"
      ]
     },
     "metadata": {},
     "output_type": "display_data"
    },
    {
     "data": {
      "application/vnd.jupyter.widget-view+json": {
       "model_id": "f5b61c3804d6478f9c2433edfbf9178f",
       "version_major": 2,
       "version_minor": 0
      },
      "text/plain": [
       "HBox(children=(FloatProgress(value=0.0, max=128.0), HTML(value='')))"
      ]
     },
     "metadata": {},
     "output_type": "display_data"
    },
    {
     "name": "stdout",
     "output_type": "stream",
     "text": [
      "{'exact_match': 76.5625, 'f1': 84.84990397674223} {'accuracy': 0.7890625} {'bleu': 0.003713526202373805, 'precisions': [0.5900900900900901, 0.569620253164557, 0.4355400696864111, 0.32945736434108525], 'brevity_penalty': 0.007924168880528161, 'length_ratio': 0.1712962962962963, 'translation_length': 444, 'reference_length': 2592} {'bleu': 0.03005037837237978, 'precisions': [0.38392857142857145, 0.21875, 0.10144927536231885, 0.04741379310344827], 'brevity_penalty': 0.21196390341569352, 'length_ratio': 0.39195100612423445, 'translation_length': 448, 'reference_length': 1143}\n",
      "\n",
      "\n"
     ]
    },
    {
     "data": {
      "application/vnd.jupyter.widget-view+json": {
       "model_id": "4c8ad70e7c2c40499abe9ba18f13a0ff",
       "version_major": 2,
       "version_minor": 0
      },
      "text/plain": [
       "HBox(children=(FloatProgress(value=0.0, max=128.0), HTML(value='')))"
      ]
     },
     "metadata": {},
     "output_type": "display_data"
    },
    {
     "name": "stderr",
     "output_type": "stream",
     "text": [
      "Loading cached shuffled indices for dataset at C:\\Users\\Pranav\\.cache\\huggingface\\datasets\\squad\\plain_text\\1.0.0\\d6ec3ceb99ca480ce37cdd35555d6cb2511d223b9150cce08a837ef62ffea453\\cache-977c2f739b69a4cc.arrow\n"
     ]
    },
    {
     "data": {
      "application/vnd.jupyter.widget-view+json": {
       "model_id": "278e545b0042410e8238739e9c1f2b57",
       "version_major": 2,
       "version_minor": 0
      },
      "text/plain": [
       "HBox(children=(FloatProgress(value=0.0, max=128.0), HTML(value='')))"
      ]
     },
     "metadata": {},
     "output_type": "display_data"
    },
    {
     "name": "stderr",
     "output_type": "stream",
     "text": [
      "Loading cached shuffled indices for dataset at C:\\Users\\Pranav\\.cache\\huggingface\\datasets\\glue\\mnli\\1.0.0\\dacbe3125aa31d7f70367a07a8a9e72a5a0bfeb5fc42e75c9db75b96da6053ad\\cache-fd6fe7d98ae3dc0c.arrow\n"
     ]
    },
    {
     "data": {
      "application/vnd.jupyter.widget-view+json": {
       "model_id": "232ba8fb64974d9fae239b1d0eb9a055",
       "version_major": 2,
       "version_minor": 0
      },
      "text/plain": [
       "HBox(children=(FloatProgress(value=0.0, max=128.0), HTML(value='')))"
      ]
     },
     "metadata": {},
     "output_type": "display_data"
    },
    {
     "name": "stderr",
     "output_type": "stream",
     "text": [
      "Loading cached shuffled indices for dataset at C:\\Users\\Pranav\\.cache\\huggingface\\datasets\\paws\\labeled_final\\1.1.0\\09d8fae989bb569009a8f5b879ccf2924d3e5cd55bfe2e89e6dab1c0b50ecd34\\cache-c73321e70d72b703.arrow\n"
     ]
    },
    {
     "name": "stdout",
     "output_type": "stream",
     "text": [
      "\n"
     ]
    },
    {
     "data": {
      "application/vnd.jupyter.widget-view+json": {
       "model_id": "760c06d5fd72417c9d0232109efd8b6b",
       "version_major": 2,
       "version_minor": 0
      },
      "text/plain": [
       "HBox(children=(FloatProgress(value=0.0, max=128.0), HTML(value='')))"
      ]
     },
     "metadata": {},
     "output_type": "display_data"
    },
    {
     "name": "stderr",
     "output_type": "stream",
     "text": [
      "Loading cached shuffled indices for dataset at C:\\Users\\Pranav\\.cache\\huggingface\\datasets\\quora\\default\\0.0.0\\36ba4cd42107f051a158016f1bea6ae3f4685c5df843529108a54e42d86c1e04\\cache-ec709d866c1fb44d.arrow\n"
     ]
    },
    {
     "name": "stdout",
     "output_type": "stream",
     "text": [
      "\n",
      "\n",
      "{'exact_match': 64.0625, 'f1': 76.79531434753358} {'accuracy': 0.828125} {'bleu': 0.30086852539528913, 'precisions': [0.8334373050530256, 0.6338983050847458, 0.48700816629547145, 0.3757178014766202], 'brevity_penalty': 0.5395778606633652, 'length_ratio': 0.6184413580246914, 'translation_length': 1603, 'reference_length': 2592} {'bleu': 0.2500356306258007, 'precisions': [0.5618279569892473, 0.3319838056680162, 0.20116279069767443, 0.11475409836065574], 'brevity_penalty': 0.9760967695185692, 'length_ratio': 0.9763779527559056, 'translation_length': 1116, 'reference_length': 1143}\n"
     ]
    },
    {
     "data": {
      "application/vnd.jupyter.widget-view+json": {
       "model_id": "744d55790b674a20a4c23f6da1836f07",
       "version_major": 2,
       "version_minor": 0
      },
      "text/plain": [
       "HBox(children=(FloatProgress(value=0.0, max=128.0), HTML(value='')))"
      ]
     },
     "metadata": {},
     "output_type": "display_data"
    },
    {
     "name": "stderr",
     "output_type": "stream",
     "text": [
      "Loading cached shuffled indices for dataset at C:\\Users\\Pranav\\.cache\\huggingface\\datasets\\squad\\plain_text\\1.0.0\\d6ec3ceb99ca480ce37cdd35555d6cb2511d223b9150cce08a837ef62ffea453\\cache-977c2f739b69a4cc.arrow\n"
     ]
    },
    {
     "data": {
      "application/vnd.jupyter.widget-view+json": {
       "model_id": "74dedf6e9ac74c629fb9c2986b3a87d7",
       "version_major": 2,
       "version_minor": 0
      },
      "text/plain": [
       "HBox(children=(FloatProgress(value=0.0, max=128.0), HTML(value='')))"
      ]
     },
     "metadata": {},
     "output_type": "display_data"
    },
    {
     "name": "stderr",
     "output_type": "stream",
     "text": [
      "Loading cached shuffled indices for dataset at C:\\Users\\Pranav\\.cache\\huggingface\\datasets\\glue\\mnli\\1.0.0\\dacbe3125aa31d7f70367a07a8a9e72a5a0bfeb5fc42e75c9db75b96da6053ad\\cache-fd6fe7d98ae3dc0c.arrow\n"
     ]
    },
    {
     "data": {
      "application/vnd.jupyter.widget-view+json": {
       "model_id": "329ad7b60bd9404690fc76e463911a6d",
       "version_major": 2,
       "version_minor": 0
      },
      "text/plain": [
       "HBox(children=(FloatProgress(value=0.0, max=128.0), HTML(value='')))"
      ]
     },
     "metadata": {},
     "output_type": "display_data"
    },
    {
     "name": "stderr",
     "output_type": "stream",
     "text": [
      "Loading cached shuffled indices for dataset at C:\\Users\\Pranav\\.cache\\huggingface\\datasets\\paws\\labeled_final\\1.1.0\\09d8fae989bb569009a8f5b879ccf2924d3e5cd55bfe2e89e6dab1c0b50ecd34\\cache-c73321e70d72b703.arrow\n"
     ]
    },
    {
     "name": "stdout",
     "output_type": "stream",
     "text": [
      "\n",
      "\n"
     ]
    },
    {
     "data": {
      "application/vnd.jupyter.widget-view+json": {
       "model_id": "b3e8aa3b9af2404aa85c9304992fb8e4",
       "version_major": 2,
       "version_minor": 0
      },
      "text/plain": [
       "HBox(children=(FloatProgress(value=0.0, max=128.0), HTML(value='')))"
      ]
     },
     "metadata": {},
     "output_type": "display_data"
    },
    {
     "name": "stderr",
     "output_type": "stream",
     "text": [
      "Loading cached shuffled indices for dataset at C:\\Users\\Pranav\\.cache\\huggingface\\datasets\\quora\\default\\0.0.0\\36ba4cd42107f051a158016f1bea6ae3f4685c5df843529108a54e42d86c1e04\\cache-ec709d866c1fb44d.arrow\n"
     ]
    },
    {
     "name": "stdout",
     "output_type": "stream",
     "text": [
      "{'exact_match': 50.78125, 'f1': 64.0159967687541} {'accuracy': 0.828125} {'bleu': 0.30320357306963003, 'precisions': [0.8283076923076923, 0.6259185036740147, 0.4784514243973703, 0.3682514101531023], 'brevity_penalty': 0.5515201396099477, 'length_ratio': 0.626929012345679, 'translation_length': 1625, 'reference_length': 2592} {'bleu': 0.24165333331023112, 'precisions': [0.5661896243291592, 0.3323232323232323, 0.191415313225058, 0.10354223433242507], 'brevity_penalty': 0.9778868024418416, 'length_ratio': 0.9781277340332458, 'translation_length': 1118, 'reference_length': 1143}\n"
     ]
    },
    {
     "data": {
      "application/vnd.jupyter.widget-view+json": {
       "model_id": "ba4511950a194b458c863e2e1261bd5c",
       "version_major": 2,
       "version_minor": 0
      },
      "text/plain": [
       "HBox(children=(FloatProgress(value=0.0, max=128.0), HTML(value='')))"
      ]
     },
     "metadata": {},
     "output_type": "display_data"
    },
    {
     "name": "stderr",
     "output_type": "stream",
     "text": [
      "Loading cached shuffled indices for dataset at C:\\Users\\Pranav\\.cache\\huggingface\\datasets\\squad\\plain_text\\1.0.0\\d6ec3ceb99ca480ce37cdd35555d6cb2511d223b9150cce08a837ef62ffea453\\cache-977c2f739b69a4cc.arrow\n"
     ]
    },
    {
     "name": "stdout",
     "output_type": "stream",
     "text": [
      "\n"
     ]
    },
    {
     "data": {
      "application/vnd.jupyter.widget-view+json": {
       "model_id": "7447c09ddea7491ea015cc26b2ca49ba",
       "version_major": 2,
       "version_minor": 0
      },
      "text/plain": [
       "HBox(children=(FloatProgress(value=0.0, max=128.0), HTML(value='')))"
      ]
     },
     "metadata": {},
     "output_type": "display_data"
    },
    {
     "name": "stderr",
     "output_type": "stream",
     "text": [
      "Loading cached shuffled indices for dataset at C:\\Users\\Pranav\\.cache\\huggingface\\datasets\\glue\\mnli\\1.0.0\\dacbe3125aa31d7f70367a07a8a9e72a5a0bfeb5fc42e75c9db75b96da6053ad\\cache-fd6fe7d98ae3dc0c.arrow\n"
     ]
    },
    {
     "data": {
      "application/vnd.jupyter.widget-view+json": {
       "model_id": "197e3adde95340b6865bdcf36ea651d4",
       "version_major": 2,
       "version_minor": 0
      },
      "text/plain": [
       "HBox(children=(FloatProgress(value=0.0, max=128.0), HTML(value='')))"
      ]
     },
     "metadata": {},
     "output_type": "display_data"
    },
    {
     "name": "stderr",
     "output_type": "stream",
     "text": [
      "Loading cached shuffled indices for dataset at C:\\Users\\Pranav\\.cache\\huggingface\\datasets\\paws\\labeled_final\\1.1.0\\09d8fae989bb569009a8f5b879ccf2924d3e5cd55bfe2e89e6dab1c0b50ecd34\\cache-c73321e70d72b703.arrow\n"
     ]
    },
    {
     "name": "stdout",
     "output_type": "stream",
     "text": [
      "\n"
     ]
    },
    {
     "data": {
      "application/vnd.jupyter.widget-view+json": {
       "model_id": "12ca598013ce4a1dba91201f71a3bfa9",
       "version_major": 2,
       "version_minor": 0
      },
      "text/plain": [
       "HBox(children=(FloatProgress(value=0.0, max=128.0), HTML(value='')))"
      ]
     },
     "metadata": {},
     "output_type": "display_data"
    },
    {
     "name": "stderr",
     "output_type": "stream",
     "text": [
      "Loading cached shuffled indices for dataset at C:\\Users\\Pranav\\.cache\\huggingface\\datasets\\quora\\default\\0.0.0\\36ba4cd42107f051a158016f1bea6ae3f4685c5df843529108a54e42d86c1e04\\cache-ec709d866c1fb44d.arrow\n"
     ]
    },
    {
     "name": "stdout",
     "output_type": "stream",
     "text": [
      "{'exact_match': 37.5, 'f1': 52.43284110701387} {'accuracy': 0.8125} {'bleu': 0.30344451168016784, 'precisions': [0.8335380835380836, 0.6273333333333333, 0.47667638483965014, 0.3633440514469453], 'brevity_penalty': 0.5531436246309793, 'length_ratio': 0.6280864197530864, 'translation_length': 1628, 'reference_length': 2592} {'bleu': 0.2507981237229819, 'precisions': [0.5617173524150268, 0.33535353535353535, 0.20069605568445475, 0.11444141689373297], 'brevity_penalty': 0.9778868024418416, 'length_ratio': 0.9781277340332458, 'translation_length': 1118, 'reference_length': 1143}\n",
      "Convergence reached.\n"
     ]
    }
   ],
   "source": [
    "%lprun -f train train()"
   ]
  },
  {
   "cell_type": "code",
   "execution_count": 20,
   "id": "05282478",
   "metadata": {},
   "outputs": [
    {
     "data": {
      "text/plain": [
       "<matplotlib.legend.Legend at 0x231aa06b848>"
      ]
     },
     "execution_count": 20,
     "metadata": {},
     "output_type": "execute_result"
    },
    {
     "name": "stdout",
     "output_type": "stream",
     "text": [
      "\n",
      "\n"
     ]
    },
    {
     "data": {
      "image/png": "[encoded data removed]",
      "text/plain": [
       "<Figure size 432x288 with 1 Axes>"
      ]
     },
     "metadata": {
      "needs_background": "light"
     },
     "output_type": "display_data"
    }
   ],
   "source": [
    "plt.plot([entry['metrics']['f1'] for entry in normal_history['squad']], label='squad-f1')\n",
    "plt.plot([entry['metrics']['accuracy'] * 100 for entry in normal_history['mnli']], label='mnli-acc')\n",
    "plt.plot([entry['metrics']['bleu'] * 100 for entry in normal_history['paws']], label='paws-bleu')\n",
    "plt.plot([entry['metrics']['bleu'] * 100 for entry in normal_history['qqp']], label='qqp-bleu')\n",
    "plt.legend()"
   ]
  },
  {
   "cell_type": "code",
   "execution_count": 21,
   "id": "e1186c04",
   "metadata": {},
   "outputs": [
    {
     "data": {
      "application/vnd.jupyter.widget-view+json": {
       "model_id": "d83a05a4361e464cbfc0a2a1bbefcad6",
       "version_major": 2,
       "version_minor": 0
      },
      "text/plain": [
       "HBox(children=(FloatProgress(value=0.0, max=89559.0), HTML(value='')))"
      ]
     },
     "metadata": {},
     "output_type": "display_data"
    },
    {
     "data": {
      "application/vnd.jupyter.widget-view+json": {
       "model_id": "6ae5897ef9084309b297b7797f6da254",
       "version_major": 2,
       "version_minor": 0
      },
      "text/plain": [
       "HBox(children=(FloatProgress(value=0.0, max=128.0), HTML(value='')))"
      ]
     },
     "metadata": {},
     "output_type": "display_data"
    },
    {
     "name": "stderr",
     "output_type": "stream",
     "text": [
      "Loading cached shuffled indices for dataset at C:\\Users\\Pranav\\.cache\\huggingface\\datasets\\squad\\plain_text\\1.0.0\\d6ec3ceb99ca480ce37cdd35555d6cb2511d223b9150cce08a837ef62ffea453\\cache-977c2f739b69a4cc.arrow\n"
     ]
    },
    {
     "data": {
      "application/vnd.jupyter.widget-view+json": {
       "model_id": "b140fcab0fdb4484ba5c1003514c2073",
       "version_major": 2,
       "version_minor": 0
      },
      "text/plain": [
       "HBox(children=(FloatProgress(value=0.0, max=128.0), HTML(value='')))"
      ]
     },
     "metadata": {},
     "output_type": "display_data"
    },
    {
     "name": "stderr",
     "output_type": "stream",
     "text": [
      "Loading cached shuffled indices for dataset at C:\\Users\\Pranav\\.cache\\huggingface\\datasets\\glue\\mnli\\1.0.0\\dacbe3125aa31d7f70367a07a8a9e72a5a0bfeb5fc42e75c9db75b96da6053ad\\cache-fd6fe7d98ae3dc0c.arrow\n"
     ]
    },
    {
     "data": {
      "application/vnd.jupyter.widget-view+json": {
       "model_id": "6c4bd3c0b29d474db1753f28229ab635",
       "version_major": 2,
       "version_minor": 0
      },
      "text/plain": [
       "HBox(children=(FloatProgress(value=0.0, max=128.0), HTML(value='')))"
      ]
     },
     "metadata": {},
     "output_type": "display_data"
    },
    {
     "name": "stderr",
     "output_type": "stream",
     "text": [
      "Loading cached shuffled indices for dataset at C:\\Users\\Pranav\\.cache\\huggingface\\datasets\\paws\\labeled_final\\1.1.0\\09d8fae989bb569009a8f5b879ccf2924d3e5cd55bfe2e89e6dab1c0b50ecd34\\cache-c73321e70d72b703.arrow\n"
     ]
    },
    {
     "name": "stdout",
     "output_type": "stream",
     "text": [
      "\n"
     ]
    },
    {
     "data": {
      "application/vnd.jupyter.widget-view+json": {
       "model_id": "ded6a112b6b240b2a3c9de7df6b65ab7",
       "version_major": 2,
       "version_minor": 0
      },
      "text/plain": [
       "HBox(children=(FloatProgress(value=0.0, max=128.0), HTML(value='')))"
      ]
     },
     "metadata": {},
     "output_type": "display_data"
    },
    {
     "name": "stderr",
     "output_type": "stream",
     "text": [
      "Loading cached shuffled indices for dataset at C:\\Users\\Pranav\\.cache\\huggingface\\datasets\\quora\\default\\0.0.0\\36ba4cd42107f051a158016f1bea6ae3f4685c5df843529108a54e42d86c1e04\\cache-ec709d866c1fb44d.arrow\n"
     ]
    },
    {
     "name": "stdout",
     "output_type": "stream",
     "text": [
      "{'exact_match': 37.5, 'f1': 52.43284110701387} {'accuracy': 0.8125} {'bleu': 0.30344451168016784, 'precisions': [0.8335380835380836, 0.6273333333333333, 0.47667638483965014, 0.3633440514469453], 'brevity_penalty': 0.5531436246309793, 'length_ratio': 0.6280864197530864, 'translation_length': 1628, 'reference_length': 2592} {'bleu': 0.2507981237229819, 'precisions': [0.5617173524150268, 0.33535353535353535, 0.20069605568445475, 0.11444141689373297], 'brevity_penalty': 0.9778868024418416, 'length_ratio': 0.9781277340332458, 'translation_length': 1118, 'reference_length': 1143}\n",
      "\n",
      "\n",
      "\n"
     ]
    },
    {
     "data": {
      "application/vnd.jupyter.widget-view+json": {
       "model_id": "1056ac9a409a4c7e9028a7fe57ba6ae6",
       "version_major": 2,
       "version_minor": 0
      },
      "text/plain": [
       "HBox(children=(FloatProgress(value=0.0, max=128.0), HTML(value='')))"
      ]
     },
     "metadata": {},
     "output_type": "display_data"
    },
    {
     "name": "stderr",
     "output_type": "stream",
     "text": [
      "Loading cached shuffled indices for dataset at C:\\Users\\Pranav\\.cache\\huggingface\\datasets\\squad\\plain_text\\1.0.0\\d6ec3ceb99ca480ce37cdd35555d6cb2511d223b9150cce08a837ef62ffea453\\cache-977c2f739b69a4cc.arrow\n"
     ]
    },
    {
     "data": {
      "application/vnd.jupyter.widget-view+json": {
       "model_id": "5e6d244d8cef4db5bfe2fbe4aab3a39d",
       "version_major": 2,
       "version_minor": 0
      },
      "text/plain": [
       "HBox(children=(FloatProgress(value=0.0, max=128.0), HTML(value='')))"
      ]
     },
     "metadata": {},
     "output_type": "display_data"
    },
    {
     "name": "stderr",
     "output_type": "stream",
     "text": [
      "Loading cached shuffled indices for dataset at C:\\Users\\Pranav\\.cache\\huggingface\\datasets\\glue\\mnli\\1.0.0\\dacbe3125aa31d7f70367a07a8a9e72a5a0bfeb5fc42e75c9db75b96da6053ad\\cache-fd6fe7d98ae3dc0c.arrow\n"
     ]
    },
    {
     "data": {
      "application/vnd.jupyter.widget-view+json": {
       "model_id": "69cff36fd18b4254a9f59ef3991feb4b",
       "version_major": 2,
       "version_minor": 0
      },
      "text/plain": [
       "HBox(children=(FloatProgress(value=0.0, max=128.0), HTML(value='')))"
      ]
     },
     "metadata": {},
     "output_type": "display_data"
    },
    {
     "name": "stderr",
     "output_type": "stream",
     "text": [
      "Loading cached shuffled indices for dataset at C:\\Users\\Pranav\\.cache\\huggingface\\datasets\\paws\\labeled_final\\1.1.0\\09d8fae989bb569009a8f5b879ccf2924d3e5cd55bfe2e89e6dab1c0b50ecd34\\cache-c73321e70d72b703.arrow\n"
     ]
    },
    {
     "name": "stdout",
     "output_type": "stream",
     "text": [
      "\n"
     ]
    },
    {
     "data": {
      "application/vnd.jupyter.widget-view+json": {
       "model_id": "e3fced4ceba741d9af89d934b3b190bc",
       "version_major": 2,
       "version_minor": 0
      },
      "text/plain": [
       "HBox(children=(FloatProgress(value=0.0, max=128.0), HTML(value='')))"
      ]
     },
     "metadata": {},
     "output_type": "display_data"
    },
    {
     "name": "stderr",
     "output_type": "stream",
     "text": [
      "Loading cached shuffled indices for dataset at C:\\Users\\Pranav\\.cache\\huggingface\\datasets\\quora\\default\\0.0.0\\36ba4cd42107f051a158016f1bea6ae3f4685c5df843529108a54e42d86c1e04\\cache-ec709d866c1fb44d.arrow\n"
     ]
    },
    {
     "name": "stdout",
     "output_type": "stream",
     "text": [
      "{'exact_match': 7.03125, 'f1': 24.36710371418904} {'accuracy': 0.734375} {'bleu': 0.2891898413595864, 'precisions': [0.8281053952321205, 0.6186903137789904, 0.4678624813153961, 0.35702479338842974], 'brevity_penalty': 0.5346741051200565, 'length_ratio': 0.6149691358024691, 'translation_length': 1594, 'reference_length': 2592} {'bleu': 0.2648815411402984, 'precisions': [0.5934172313649564, 0.3569060773480663, 0.23809523809523808, 0.14946070878274267], 'brevity_penalty': 0.8989876669702194, 'length_ratio': 0.9037620297462817, 'translation_length': 1033, 'reference_length': 1143}\n",
      "\n",
      "\n",
      "\n"
     ]
    },
    {
     "data": {
      "application/vnd.jupyter.widget-view+json": {
       "model_id": "67f5aee195ab49ffb7686b45aec4c1df",
       "version_major": 2,
       "version_minor": 0
      },
      "text/plain": [
       "HBox(children=(FloatProgress(value=0.0, max=128.0), HTML(value='')))"
      ]
     },
     "metadata": {},
     "output_type": "display_data"
    },
    {
     "name": "stderr",
     "output_type": "stream",
     "text": [
      "Loading cached shuffled indices for dataset at C:\\Users\\Pranav\\.cache\\huggingface\\datasets\\squad\\plain_text\\1.0.0\\d6ec3ceb99ca480ce37cdd35555d6cb2511d223b9150cce08a837ef62ffea453\\cache-977c2f739b69a4cc.arrow\n"
     ]
    },
    {
     "data": {
      "application/vnd.jupyter.widget-view+json": {
       "model_id": "409f3ad01f7c4c93a470ca7b26a9c37c",
       "version_major": 2,
       "version_minor": 0
      },
      "text/plain": [
       "HBox(children=(FloatProgress(value=0.0, max=128.0), HTML(value='')))"
      ]
     },
     "metadata": {},
     "output_type": "display_data"
    },
    {
     "name": "stderr",
     "output_type": "stream",
     "text": [
      "Loading cached shuffled indices for dataset at C:\\Users\\Pranav\\.cache\\huggingface\\datasets\\glue\\mnli\\1.0.0\\dacbe3125aa31d7f70367a07a8a9e72a5a0bfeb5fc42e75c9db75b96da6053ad\\cache-fd6fe7d98ae3dc0c.arrow\n"
     ]
    },
    {
     "data": {
      "application/vnd.jupyter.widget-view+json": {
       "model_id": "91cdeb42a94c4f82985fec8274e9c315",
       "version_major": 2,
       "version_minor": 0
      },
      "text/plain": [
       "HBox(children=(FloatProgress(value=0.0, max=128.0), HTML(value='')))"
      ]
     },
     "metadata": {},
     "output_type": "display_data"
    },
    {
     "name": "stderr",
     "output_type": "stream",
     "text": [
      "Loading cached shuffled indices for dataset at C:\\Users\\Pranav\\.cache\\huggingface\\datasets\\paws\\labeled_final\\1.1.0\\09d8fae989bb569009a8f5b879ccf2924d3e5cd55bfe2e89e6dab1c0b50ecd34\\cache-c73321e70d72b703.arrow\n"
     ]
    },
    {
     "name": "stdout",
     "output_type": "stream",
     "text": [
      "\n"
     ]
    },
    {
     "data": {
      "application/vnd.jupyter.widget-view+json": {
       "model_id": "89a6bb50675d4ab9bd3a0fd03b753c27",
       "version_major": 2,
       "version_minor": 0
      },
      "text/plain": [
       "HBox(children=(FloatProgress(value=0.0, max=128.0), HTML(value='')))"
      ]
     },
     "metadata": {},
     "output_type": "display_data"
    },
    {
     "name": "stderr",
     "output_type": "stream",
     "text": [
      "Loading cached shuffled indices for dataset at C:\\Users\\Pranav\\.cache\\huggingface\\datasets\\quora\\default\\0.0.0\\36ba4cd42107f051a158016f1bea6ae3f4685c5df843529108a54e42d86c1e04\\cache-ec709d866c1fb44d.arrow\n"
     ]
    },
    {
     "name": "stdout",
     "output_type": "stream",
     "text": [
      "{'exact_match': 0.78125, 'f1': 15.111174710197012} {'accuracy': 0.6875} {'bleu': 0.2966379338452751, 'precisions': [0.8332303891290921, 0.6190476190476191, 0.4673514306676449, 0.3554655870445344], 'brevity_penalty': 0.5482695330280193, 'length_ratio': 0.6246141975308642, 'translation_length': 1619, 'reference_length': 2592} {'bleu': 0.27300526485509613, 'precisions': [0.6069364161849711, 0.36923076923076925, 0.24296675191815856, 0.1529051987767584], 'brevity_penalty': 0.9037919676404447, 'length_ratio': 0.9081364829396326, 'translation_length': 1038, 'reference_length': 1143}\n",
      "\n",
      "\n",
      "\n"
     ]
    },
    {
     "data": {
      "application/vnd.jupyter.widget-view+json": {
       "model_id": "919bb0e7a76f4beaaadd2f2850b0f9be",
       "version_major": 2,
       "version_minor": 0
      },
      "text/plain": [
       "HBox(children=(FloatProgress(value=0.0, max=128.0), HTML(value='')))"
      ]
     },
     "metadata": {},
     "output_type": "display_data"
    },
    {
     "name": "stderr",
     "output_type": "stream",
     "text": [
      "Loading cached shuffled indices for dataset at C:\\Users\\Pranav\\.cache\\huggingface\\datasets\\squad\\plain_text\\1.0.0\\d6ec3ceb99ca480ce37cdd35555d6cb2511d223b9150cce08a837ef62ffea453\\cache-977c2f739b69a4cc.arrow\n"
     ]
    },
    {
     "data": {
      "application/vnd.jupyter.widget-view+json": {
       "model_id": "b12ce4715d844e4993e0ac52dd242466",
       "version_major": 2,
       "version_minor": 0
      },
      "text/plain": [
       "HBox(children=(FloatProgress(value=0.0, max=128.0), HTML(value='')))"
      ]
     },
     "metadata": {},
     "output_type": "display_data"
    },
    {
     "name": "stderr",
     "output_type": "stream",
     "text": [
      "Loading cached shuffled indices for dataset at C:\\Users\\Pranav\\.cache\\huggingface\\datasets\\glue\\mnli\\1.0.0\\dacbe3125aa31d7f70367a07a8a9e72a5a0bfeb5fc42e75c9db75b96da6053ad\\cache-fd6fe7d98ae3dc0c.arrow\n"
     ]
    },
    {
     "data": {
      "application/vnd.jupyter.widget-view+json": {
       "model_id": "a6436a015df34339bc3d89deb1025257",
       "version_major": 2,
       "version_minor": 0
      },
      "text/plain": [
       "HBox(children=(FloatProgress(value=0.0, max=128.0), HTML(value='')))"
      ]
     },
     "metadata": {},
     "output_type": "display_data"
    },
    {
     "name": "stderr",
     "output_type": "stream",
     "text": [
      "Loading cached shuffled indices for dataset at C:\\Users\\Pranav\\.cache\\huggingface\\datasets\\paws\\labeled_final\\1.1.0\\09d8fae989bb569009a8f5b879ccf2924d3e5cd55bfe2e89e6dab1c0b50ecd34\\cache-c73321e70d72b703.arrow\n"
     ]
    },
    {
     "name": "stdout",
     "output_type": "stream",
     "text": [
      "\n"
     ]
    },
    {
     "data": {
      "application/vnd.jupyter.widget-view+json": {
       "model_id": "4ab60d9efcd549e082a8763e19da9838",
       "version_major": 2,
       "version_minor": 0
      },
      "text/plain": [
       "HBox(children=(FloatProgress(value=0.0, max=128.0), HTML(value='')))"
      ]
     },
     "metadata": {},
     "output_type": "display_data"
    },
    {
     "name": "stderr",
     "output_type": "stream",
     "text": [
      "Loading cached shuffled indices for dataset at C:\\Users\\Pranav\\.cache\\huggingface\\datasets\\quora\\default\\0.0.0\\36ba4cd42107f051a158016f1bea6ae3f4685c5df843529108a54e42d86c1e04\\cache-ec709d866c1fb44d.arrow\n"
     ]
    },
    {
     "name": "stdout",
     "output_type": "stream",
     "text": [
      "{'exact_match': 0.0, 'f1': 10.072941779605106} {'accuracy': 0.5625} {'bleu': 0.2937904225876933, 'precisions': [0.8297078931013051, 0.6218771100607697, 0.4693274205469327, 0.35428571428571426], 'brevity_penalty': 0.5428411891840108, 'length_ratio': 0.6207561728395061, 'translation_length': 1609, 'reference_length': 2592} {'bleu': 0.264554385271529, 'precisions': [0.6038095238095238, 0.3611713665943601, 0.23173803526448364, 0.13813813813813813], 'brevity_penalty': 0.915237734277275, 'length_ratio': 0.9186351706036745, 'translation_length': 1050, 'reference_length': 1143}\n",
      "\n",
      "\n",
      "\n",
      "\n",
      "\n",
      "\n",
      "\n",
      "\n"
     ]
    },
    {
     "data": {
      "application/vnd.jupyter.widget-view+json": {
       "model_id": "fa6c361934514055989e2f78b4b3a2ce",
       "version_major": 2,
       "version_minor": 0
      },
      "text/plain": [
       "HBox(children=(FloatProgress(value=0.0, max=128.0), HTML(value='')))"
      ]
     },
     "metadata": {},
     "output_type": "display_data"
    },
    {
     "name": "stderr",
     "output_type": "stream",
     "text": [
      "Loading cached shuffled indices for dataset at C:\\Users\\Pranav\\.cache\\huggingface\\datasets\\squad\\plain_text\\1.0.0\\d6ec3ceb99ca480ce37cdd35555d6cb2511d223b9150cce08a837ef62ffea453\\cache-977c2f739b69a4cc.arrow\n"
     ]
    },
    {
     "data": {
      "application/vnd.jupyter.widget-view+json": {
       "model_id": "47e645ead22c4fd1b450737fab121b8d",
       "version_major": 2,
       "version_minor": 0
      },
      "text/plain": [
       "HBox(children=(FloatProgress(value=0.0, max=128.0), HTML(value='')))"
      ]
     },
     "metadata": {},
     "output_type": "display_data"
    },
    {
     "name": "stderr",
     "output_type": "stream",
     "text": [
      "Loading cached shuffled indices for dataset at C:\\Users\\Pranav\\.cache\\huggingface\\datasets\\glue\\mnli\\1.0.0\\dacbe3125aa31d7f70367a07a8a9e72a5a0bfeb5fc42e75c9db75b96da6053ad\\cache-fd6fe7d98ae3dc0c.arrow\n"
     ]
    },
    {
     "data": {
      "application/vnd.jupyter.widget-view+json": {
       "model_id": "29a35b3457a3438b860f68663a3ea3e6",
       "version_major": 2,
       "version_minor": 0
      },
      "text/plain": [
       "HBox(children=(FloatProgress(value=0.0, max=128.0), HTML(value='')))"
      ]
     },
     "metadata": {},
     "output_type": "display_data"
    },
    {
     "name": "stderr",
     "output_type": "stream",
     "text": [
      "Loading cached shuffled indices for dataset at C:\\Users\\Pranav\\.cache\\huggingface\\datasets\\paws\\labeled_final\\1.1.0\\09d8fae989bb569009a8f5b879ccf2924d3e5cd55bfe2e89e6dab1c0b50ecd34\\cache-c73321e70d72b703.arrow\n"
     ]
    },
    {
     "data": {
      "application/vnd.jupyter.widget-view+json": {
       "model_id": "729af3005b8a450e986aca2882e1b95f",
       "version_major": 2,
       "version_minor": 0
      },
      "text/plain": [
       "HBox(children=(FloatProgress(value=0.0, max=128.0), HTML(value='')))"
      ]
     },
     "metadata": {},
     "output_type": "display_data"
    },
    {
     "name": "stderr",
     "output_type": "stream",
     "text": [
      "Loading cached shuffled indices for dataset at C:\\Users\\Pranav\\.cache\\huggingface\\datasets\\quora\\default\\0.0.0\\36ba4cd42107f051a158016f1bea6ae3f4685c5df843529108a54e42d86c1e04\\cache-ec709d866c1fb44d.arrow\n"
     ]
    },
    {
     "name": "stdout",
     "output_type": "stream",
     "text": [
      "{'exact_match': 0.0, 'f1': 10.971825705039715} {'accuracy': 0.53125} {'bleu': 0.2935739309917866, 'precisions': [0.8270303781773094, 0.6175084175084176, 0.4657332350773766, 0.35394629780309195], 'brevity_penalty': 0.5450141161917837, 'length_ratio': 0.6222993827160493, 'translation_length': 1613, 'reference_length': 2592} {'bleu': 0.25911921587890735, 'precisions': [0.62, 0.37270642201834864, 0.239247311827957, 0.1444805194805195], 'brevity_penalty': 0.8667540688954889, 'length_ratio': 0.8748906386701663, 'translation_length': 1000, 'reference_length': 1143}\n",
      "\n",
      "\n",
      "\n"
     ]
    },
    {
     "data": {
      "application/vnd.jupyter.widget-view+json": {
       "model_id": "eb8db66028144398bd927bc6c8981470",
       "version_major": 2,
       "version_minor": 0
      },
      "text/plain": [
       "HBox(children=(FloatProgress(value=0.0, max=128.0), HTML(value='')))"
      ]
     },
     "metadata": {},
     "output_type": "display_data"
    },
    {
     "name": "stderr",
     "output_type": "stream",
     "text": [
      "Loading cached shuffled indices for dataset at C:\\Users\\Pranav\\.cache\\huggingface\\datasets\\squad\\plain_text\\1.0.0\\d6ec3ceb99ca480ce37cdd35555d6cb2511d223b9150cce08a837ef62ffea453\\cache-977c2f739b69a4cc.arrow\n"
     ]
    },
    {
     "data": {
      "application/vnd.jupyter.widget-view+json": {
       "model_id": "156c359c08774d6b9f7faec5d8c60535",
       "version_major": 2,
       "version_minor": 0
      },
      "text/plain": [
       "HBox(children=(FloatProgress(value=0.0, max=128.0), HTML(value='')))"
      ]
     },
     "metadata": {},
     "output_type": "display_data"
    },
    {
     "name": "stderr",
     "output_type": "stream",
     "text": [
      "Loading cached shuffled indices for dataset at C:\\Users\\Pranav\\.cache\\huggingface\\datasets\\glue\\mnli\\1.0.0\\dacbe3125aa31d7f70367a07a8a9e72a5a0bfeb5fc42e75c9db75b96da6053ad\\cache-fd6fe7d98ae3dc0c.arrow\n"
     ]
    },
    {
     "data": {
      "application/vnd.jupyter.widget-view+json": {
       "model_id": "e8d7922e84274b6ca4908ccc4dabbf54",
       "version_major": 2,
       "version_minor": 0
      },
      "text/plain": [
       "HBox(children=(FloatProgress(value=0.0, max=128.0), HTML(value='')))"
      ]
     },
     "metadata": {},
     "output_type": "display_data"
    },
    {
     "name": "stderr",
     "output_type": "stream",
     "text": [
      "Loading cached shuffled indices for dataset at C:\\Users\\Pranav\\.cache\\huggingface\\datasets\\paws\\labeled_final\\1.1.0\\09d8fae989bb569009a8f5b879ccf2924d3e5cd55bfe2e89e6dab1c0b50ecd34\\cache-c73321e70d72b703.arrow\n"
     ]
    },
    {
     "name": "stdout",
     "output_type": "stream",
     "text": [
      "\n",
      "\n"
     ]
    },
    {
     "data": {
      "application/vnd.jupyter.widget-view+json": {
       "model_id": "f7a6fd0684d34479805a1899a60693cf",
       "version_major": 2,
       "version_minor": 0
      },
      "text/plain": [
       "HBox(children=(FloatProgress(value=0.0, max=128.0), HTML(value='')))"
      ]
     },
     "metadata": {},
     "output_type": "display_data"
    },
    {
     "name": "stderr",
     "output_type": "stream",
     "text": [
      "Loading cached shuffled indices for dataset at C:\\Users\\Pranav\\.cache\\huggingface\\datasets\\quora\\default\\0.0.0\\36ba4cd42107f051a158016f1bea6ae3f4685c5df843529108a54e42d86c1e04\\cache-ec709d866c1fb44d.arrow\n"
     ]
    },
    {
     "name": "stdout",
     "output_type": "stream",
     "text": [
      "{'exact_match': 0.0, 'f1': 9.107531957351302} {'accuracy': 0.4609375} {'bleu': 0.2950841037615613, 'precisions': [0.8347880299251871, 0.6246612466124661, 0.47477744807121663, 0.3598360655737705], 'brevity_penalty': 0.5401220752199261, 'length_ratio': 0.6188271604938271, 'translation_length': 1604, 'reference_length': 2592} {'bleu': 0.268283904603609, 'precisions': [0.615686274509804, 0.3710762331838565, 0.24083769633507854, 0.15251572327044025], 'brevity_penalty': 0.8863988722295655, 'length_ratio': 0.8923884514435696, 'translation_length': 1020, 'reference_length': 1143}\n"
     ]
    },
    {
     "data": {
      "application/vnd.jupyter.widget-view+json": {
       "model_id": "8388de7cb3804ccdab37897195e83a09",
       "version_major": 2,
       "version_minor": 0
      },
      "text/plain": [
       "HBox(children=(FloatProgress(value=0.0, max=128.0), HTML(value='')))"
      ]
     },
     "metadata": {},
     "output_type": "display_data"
    },
    {
     "name": "stderr",
     "output_type": "stream",
     "text": [
      "Loading cached shuffled indices for dataset at C:\\Users\\Pranav\\.cache\\huggingface\\datasets\\squad\\plain_text\\1.0.0\\d6ec3ceb99ca480ce37cdd35555d6cb2511d223b9150cce08a837ef62ffea453\\cache-977c2f739b69a4cc.arrow\n"
     ]
    },
    {
     "name": "stdout",
     "output_type": "stream",
     "text": [
      "\n"
     ]
    },
    {
     "data": {
      "application/vnd.jupyter.widget-view+json": {
       "model_id": "ffb0601358624e91a093fa45f822f0ff",
       "version_major": 2,
       "version_minor": 0
      },
      "text/plain": [
       "HBox(children=(FloatProgress(value=0.0, max=128.0), HTML(value='')))"
      ]
     },
     "metadata": {},
     "output_type": "display_data"
    },
    {
     "name": "stderr",
     "output_type": "stream",
     "text": [
      "Loading cached shuffled indices for dataset at C:\\Users\\Pranav\\.cache\\huggingface\\datasets\\glue\\mnli\\1.0.0\\dacbe3125aa31d7f70367a07a8a9e72a5a0bfeb5fc42e75c9db75b96da6053ad\\cache-fd6fe7d98ae3dc0c.arrow\n"
     ]
    },
    {
     "data": {
      "application/vnd.jupyter.widget-view+json": {
       "model_id": "2a12a0a8bd0a4a0d93543c0077f22736",
       "version_major": 2,
       "version_minor": 0
      },
      "text/plain": [
       "HBox(children=(FloatProgress(value=0.0, max=128.0), HTML(value='')))"
      ]
     },
     "metadata": {},
     "output_type": "display_data"
    },
    {
     "name": "stderr",
     "output_type": "stream",
     "text": [
      "Loading cached shuffled indices for dataset at C:\\Users\\Pranav\\.cache\\huggingface\\datasets\\paws\\labeled_final\\1.1.0\\09d8fae989bb569009a8f5b879ccf2924d3e5cd55bfe2e89e6dab1c0b50ecd34\\cache-c73321e70d72b703.arrow\n"
     ]
    },
    {
     "name": "stdout",
     "output_type": "stream",
     "text": [
      "\n"
     ]
    },
    {
     "data": {
      "application/vnd.jupyter.widget-view+json": {
       "model_id": "eda54fd40bfc4de882d11c905e218a52",
       "version_major": 2,
       "version_minor": 0
      },
      "text/plain": [
       "HBox(children=(FloatProgress(value=0.0, max=128.0), HTML(value='')))"
      ]
     },
     "metadata": {},
     "output_type": "display_data"
    },
    {
     "name": "stderr",
     "output_type": "stream",
     "text": [
      "Loading cached shuffled indices for dataset at C:\\Users\\Pranav\\.cache\\huggingface\\datasets\\quora\\default\\0.0.0\\36ba4cd42107f051a158016f1bea6ae3f4685c5df843529108a54e42d86c1e04\\cache-ec709d866c1fb44d.arrow\n"
     ]
    },
    {
     "name": "stdout",
     "output_type": "stream",
     "text": [
      "{'exact_match': 0.0, 'f1': 8.833996462612463} {'accuracy': 0.4765625} {'bleu': 0.27966104746346265, 'precisions': [0.819672131147541, 0.6042524005486969, 0.45338345864661656, 0.34442595673876875], 'brevity_penalty': 0.5303065061504252, 'length_ratio': 0.6118827160493827, 'translation_length': 1586, 'reference_length': 2592} {'bleu': 0.2831512056408984, 'precisions': [0.6358974358974359, 0.4025974025974026, 0.2712100139082058, 0.1844331641285956], 'brevity_penalty': 0.8417201425065935, 'length_ratio': 0.8530183727034121, 'translation_length': 975, 'reference_length': 1143}\n"
     ]
    },
    {
     "data": {
      "application/vnd.jupyter.widget-view+json": {
       "model_id": "7a06bcabaf1246dcb6561313b157a2ed",
       "version_major": 2,
       "version_minor": 0
      },
      "text/plain": [
       "HBox(children=(FloatProgress(value=0.0, max=128.0), HTML(value='')))"
      ]
     },
     "metadata": {},
     "output_type": "display_data"
    },
    {
     "name": "stderr",
     "output_type": "stream",
     "text": [
      "Loading cached shuffled indices for dataset at C:\\Users\\Pranav\\.cache\\huggingface\\datasets\\squad\\plain_text\\1.0.0\\d6ec3ceb99ca480ce37cdd35555d6cb2511d223b9150cce08a837ef62ffea453\\cache-977c2f739b69a4cc.arrow\n"
     ]
    },
    {
     "name": "stdout",
     "output_type": "stream",
     "text": [
      "\n",
      "\n"
     ]
    },
    {
     "data": {
      "application/vnd.jupyter.widget-view+json": {
       "model_id": "4998a6a297c24e479e63411c40110729",
       "version_major": 2,
       "version_minor": 0
      },
      "text/plain": [
       "HBox(children=(FloatProgress(value=0.0, max=128.0), HTML(value='')))"
      ]
     },
     "metadata": {},
     "output_type": "display_data"
    },
    {
     "name": "stderr",
     "output_type": "stream",
     "text": [
      "Loading cached shuffled indices for dataset at C:\\Users\\Pranav\\.cache\\huggingface\\datasets\\glue\\mnli\\1.0.0\\dacbe3125aa31d7f70367a07a8a9e72a5a0bfeb5fc42e75c9db75b96da6053ad\\cache-fd6fe7d98ae3dc0c.arrow\n"
     ]
    },
    {
     "data": {
      "application/vnd.jupyter.widget-view+json": {
       "model_id": "bc26dd9fe8b940e0be6bd0be83e990b0",
       "version_major": 2,
       "version_minor": 0
      },
      "text/plain": [
       "HBox(children=(FloatProgress(value=0.0, max=128.0), HTML(value='')))"
      ]
     },
     "metadata": {},
     "output_type": "display_data"
    },
    {
     "name": "stderr",
     "output_type": "stream",
     "text": [
      "Loading cached shuffled indices for dataset at C:\\Users\\Pranav\\.cache\\huggingface\\datasets\\paws\\labeled_final\\1.1.0\\09d8fae989bb569009a8f5b879ccf2924d3e5cd55bfe2e89e6dab1c0b50ecd34\\cache-c73321e70d72b703.arrow\n"
     ]
    },
    {
     "name": "stdout",
     "output_type": "stream",
     "text": [
      "\n"
     ]
    },
    {
     "data": {
      "application/vnd.jupyter.widget-view+json": {
       "model_id": "a6d7867fe8fa4d78b63aa6bbcab0ec45",
       "version_major": 2,
       "version_minor": 0
      },
      "text/plain": [
       "HBox(children=(FloatProgress(value=0.0, max=128.0), HTML(value='')))"
      ]
     },
     "metadata": {},
     "output_type": "display_data"
    },
    {
     "name": "stderr",
     "output_type": "stream",
     "text": [
      "Loading cached shuffled indices for dataset at C:\\Users\\Pranav\\.cache\\huggingface\\datasets\\quora\\default\\0.0.0\\36ba4cd42107f051a158016f1bea6ae3f4685c5df843529108a54e42d86c1e04\\cache-ec709d866c1fb44d.arrow\n"
     ]
    },
    {
     "name": "stdout",
     "output_type": "stream",
     "text": [
      "{'exact_match': 0.0, 'f1': 7.356641661196132} {'accuracy': 0.453125} {'bleu': 0.27850928938292924, 'precisions': [0.8141870684243565, 0.5965870307167236, 0.4487658937920718, 0.3391232423490488], 'brevity_penalty': 0.5341286005221352, 'length_ratio': 0.6145833333333334, 'translation_length': 1593, 'reference_length': 2592} {'bleu': 0.2728777288453823, 'precisions': [0.6149312377210217, 0.37865168539325844, 0.24671916010498687, 0.15772870662460567], 'brevity_penalty': 0.8844495685677304, 'length_ratio': 0.8906386701662292, 'translation_length': 1018, 'reference_length': 1143}\n"
     ]
    },
    {
     "data": {
      "application/vnd.jupyter.widget-view+json": {
       "model_id": "5ffb2a05c77c4d00b0424677251c7980",
       "version_major": 2,
       "version_minor": 0
      },
      "text/plain": [
       "HBox(children=(FloatProgress(value=0.0, max=128.0), HTML(value='')))"
      ]
     },
     "metadata": {},
     "output_type": "display_data"
    },
    {
     "name": "stderr",
     "output_type": "stream",
     "text": [
      "Loading cached shuffled indices for dataset at C:\\Users\\Pranav\\.cache\\huggingface\\datasets\\squad\\plain_text\\1.0.0\\d6ec3ceb99ca480ce37cdd35555d6cb2511d223b9150cce08a837ef62ffea453\\cache-977c2f739b69a4cc.arrow\n"
     ]
    },
    {
     "name": "stdout",
     "output_type": "stream",
     "text": [
      "\n",
      "\n"
     ]
    },
    {
     "data": {
      "application/vnd.jupyter.widget-view+json": {
       "model_id": "fd9702e7ea574bc19e5d63d8cc2610c7",
       "version_major": 2,
       "version_minor": 0
      },
      "text/plain": [
       "HBox(children=(FloatProgress(value=0.0, max=128.0), HTML(value='')))"
      ]
     },
     "metadata": {},
     "output_type": "display_data"
    },
    {
     "name": "stderr",
     "output_type": "stream",
     "text": [
      "Loading cached shuffled indices for dataset at C:\\Users\\Pranav\\.cache\\huggingface\\datasets\\glue\\mnli\\1.0.0\\dacbe3125aa31d7f70367a07a8a9e72a5a0bfeb5fc42e75c9db75b96da6053ad\\cache-fd6fe7d98ae3dc0c.arrow\n"
     ]
    },
    {
     "data": {
      "application/vnd.jupyter.widget-view+json": {
       "model_id": "4f3305764a4842ccb8e495f357c8276a",
       "version_major": 2,
       "version_minor": 0
      },
      "text/plain": [
       "HBox(children=(FloatProgress(value=0.0, max=128.0), HTML(value='')))"
      ]
     },
     "metadata": {},
     "output_type": "display_data"
    },
    {
     "name": "stderr",
     "output_type": "stream",
     "text": [
      "Loading cached shuffled indices for dataset at C:\\Users\\Pranav\\.cache\\huggingface\\datasets\\paws\\labeled_final\\1.1.0\\09d8fae989bb569009a8f5b879ccf2924d3e5cd55bfe2e89e6dab1c0b50ecd34\\cache-c73321e70d72b703.arrow\n"
     ]
    },
    {
     "name": "stdout",
     "output_type": "stream",
     "text": [
      "\n"
     ]
    },
    {
     "data": {
      "application/vnd.jupyter.widget-view+json": {
       "model_id": "254b137926624ad783a93b23cdf17471",
       "version_major": 2,
       "version_minor": 0
      },
      "text/plain": [
       "HBox(children=(FloatProgress(value=0.0, max=128.0), HTML(value='')))"
      ]
     },
     "metadata": {},
     "output_type": "display_data"
    },
    {
     "name": "stderr",
     "output_type": "stream",
     "text": [
      "Loading cached shuffled indices for dataset at C:\\Users\\Pranav\\.cache\\huggingface\\datasets\\quora\\default\\0.0.0\\36ba4cd42107f051a158016f1bea6ae3f4685c5df843529108a54e42d86c1e04\\cache-ec709d866c1fb44d.arrow\n"
     ]
    },
    {
     "name": "stdout",
     "output_type": "stream",
     "text": [
      "{'exact_match': 0.0, 'f1': 7.369668884338486} {'accuracy': 0.4453125} {'bleu': 0.2831499837392388, 'precisions': [0.8140262993112085, 0.6031313818924439, 0.45488441461595824, 0.34789777411376754], 'brevity_penalty': 0.5363098503028993, 'length_ratio': 0.6161265432098766, 'translation_length': 1597, 'reference_length': 2592} {'bleu': 0.2803141157754214, 'precisions': [0.610236220472441, 0.38400900900900903, 0.2565789473684211, 0.16930379746835442], 'brevity_penalty': 0.8824969025845955, 'length_ratio': 0.8888888888888888, 'translation_length': 1016, 'reference_length': 1143}\n",
      "\n",
      "\n"
     ]
    },
    {
     "data": {
      "application/vnd.jupyter.widget-view+json": {
       "model_id": "f241d17ea9ec4b499138200a1455a46b",
       "version_major": 2,
       "version_minor": 0
      },
      "text/plain": [
       "HBox(children=(FloatProgress(value=0.0, max=128.0), HTML(value='')))"
      ]
     },
     "metadata": {},
     "output_type": "display_data"
    },
    {
     "name": "stderr",
     "output_type": "stream",
     "text": [
      "Loading cached shuffled indices for dataset at C:\\Users\\Pranav\\.cache\\huggingface\\datasets\\squad\\plain_text\\1.0.0\\d6ec3ceb99ca480ce37cdd35555d6cb2511d223b9150cce08a837ef62ffea453\\cache-977c2f739b69a4cc.arrow\n"
     ]
    },
    {
     "data": {
      "application/vnd.jupyter.widget-view+json": {
       "model_id": "87ddbbdee0c14940acbc352919ed1ab8",
       "version_major": 2,
       "version_minor": 0
      },
      "text/plain": [
       "HBox(children=(FloatProgress(value=0.0, max=128.0), HTML(value='')))"
      ]
     },
     "metadata": {},
     "output_type": "display_data"
    },
    {
     "name": "stderr",
     "output_type": "stream",
     "text": [
      "Loading cached shuffled indices for dataset at C:\\Users\\Pranav\\.cache\\huggingface\\datasets\\glue\\mnli\\1.0.0\\dacbe3125aa31d7f70367a07a8a9e72a5a0bfeb5fc42e75c9db75b96da6053ad\\cache-fd6fe7d98ae3dc0c.arrow\n"
     ]
    },
    {
     "data": {
      "application/vnd.jupyter.widget-view+json": {
       "model_id": "cc1716c0dc1b4cbdb3fdc3fd670dfddf",
       "version_major": 2,
       "version_minor": 0
      },
      "text/plain": [
       "HBox(children=(FloatProgress(value=0.0, max=128.0), HTML(value='')))"
      ]
     },
     "metadata": {},
     "output_type": "display_data"
    },
    {
     "name": "stderr",
     "output_type": "stream",
     "text": [
      "Loading cached shuffled indices for dataset at C:\\Users\\Pranav\\.cache\\huggingface\\datasets\\paws\\labeled_final\\1.1.0\\09d8fae989bb569009a8f5b879ccf2924d3e5cd55bfe2e89e6dab1c0b50ecd34\\cache-c73321e70d72b703.arrow\n"
     ]
    },
    {
     "name": "stdout",
     "output_type": "stream",
     "text": [
      "\n"
     ]
    },
    {
     "data": {
      "application/vnd.jupyter.widget-view+json": {
       "model_id": "9d4c562e550642cfa5b34403ee573a7d",
       "version_major": 2,
       "version_minor": 0
      },
      "text/plain": [
       "HBox(children=(FloatProgress(value=0.0, max=128.0), HTML(value='')))"
      ]
     },
     "metadata": {},
     "output_type": "display_data"
    },
    {
     "name": "stderr",
     "output_type": "stream",
     "text": [
      "Loading cached shuffled indices for dataset at C:\\Users\\Pranav\\.cache\\huggingface\\datasets\\quora\\default\\0.0.0\\36ba4cd42107f051a158016f1bea6ae3f4685c5df843529108a54e42d86c1e04\\cache-ec709d866c1fb44d.arrow\n"
     ]
    },
    {
     "name": "stdout",
     "output_type": "stream",
     "text": [
      "{'exact_match': 0.0, 'f1': 7.6364828349396845} {'accuracy': 0.4609375} {'bleu': 0.2788315688800615, 'precisions': [0.8249370277078085, 0.602054794520548, 0.44819819819819817, 0.34053156146179403], 'brevity_penalty': 0.5313991667943659, 'length_ratio': 0.6126543209876543, 'translation_length': 1588, 'reference_length': 2592} {'bleu': 0.2779666038893578, 'precisions': [0.6181455633100698, 0.3851428571428571, 0.2583668005354752, 0.16962843295638125], 'brevity_penalty': 0.8697223499726757, 'length_ratio': 0.8775153105861767, 'translation_length': 1003, 'reference_length': 1143}\n",
      "\n",
      "\n",
      "\n"
     ]
    },
    {
     "data": {
      "application/vnd.jupyter.widget-view+json": {
       "model_id": "5f06178695004eb38919a5a24fdefcfe",
       "version_major": 2,
       "version_minor": 0
      },
      "text/plain": [
       "HBox(children=(FloatProgress(value=0.0, max=128.0), HTML(value='')))"
      ]
     },
     "metadata": {},
     "output_type": "display_data"
    },
    {
     "name": "stderr",
     "output_type": "stream",
     "text": [
      "Loading cached shuffled indices for dataset at C:\\Users\\Pranav\\.cache\\huggingface\\datasets\\squad\\plain_text\\1.0.0\\d6ec3ceb99ca480ce37cdd35555d6cb2511d223b9150cce08a837ef62ffea453\\cache-977c2f739b69a4cc.arrow\n"
     ]
    },
    {
     "data": {
      "application/vnd.jupyter.widget-view+json": {
       "model_id": "dd402953e6c2466c8ea50a3d27652211",
       "version_major": 2,
       "version_minor": 0
      },
      "text/plain": [
       "HBox(children=(FloatProgress(value=0.0, max=128.0), HTML(value='')))"
      ]
     },
     "metadata": {},
     "output_type": "display_data"
    },
    {
     "name": "stderr",
     "output_type": "stream",
     "text": [
      "Loading cached shuffled indices for dataset at C:\\Users\\Pranav\\.cache\\huggingface\\datasets\\glue\\mnli\\1.0.0\\dacbe3125aa31d7f70367a07a8a9e72a5a0bfeb5fc42e75c9db75b96da6053ad\\cache-fd6fe7d98ae3dc0c.arrow\n"
     ]
    },
    {
     "data": {
      "application/vnd.jupyter.widget-view+json": {
       "model_id": "61de8149e22c4833865e9e9763d42abf",
       "version_major": 2,
       "version_minor": 0
      },
      "text/plain": [
       "HBox(children=(FloatProgress(value=0.0, max=128.0), HTML(value='')))"
      ]
     },
     "metadata": {},
     "output_type": "display_data"
    },
    {
     "name": "stderr",
     "output_type": "stream",
     "text": [
      "Loading cached shuffled indices for dataset at C:\\Users\\Pranav\\.cache\\huggingface\\datasets\\paws\\labeled_final\\1.1.0\\09d8fae989bb569009a8f5b879ccf2924d3e5cd55bfe2e89e6dab1c0b50ecd34\\cache-c73321e70d72b703.arrow\n"
     ]
    },
    {
     "name": "stdout",
     "output_type": "stream",
     "text": [
      "\n"
     ]
    },
    {
     "data": {
      "application/vnd.jupyter.widget-view+json": {
       "model_id": "211b03a8b1c44f3bbee0c15bbe3431c6",
       "version_major": 2,
       "version_minor": 0
      },
      "text/plain": [
       "HBox(children=(FloatProgress(value=0.0, max=128.0), HTML(value='')))"
      ]
     },
     "metadata": {},
     "output_type": "display_data"
    },
    {
     "name": "stderr",
     "output_type": "stream",
     "text": [
      "Loading cached shuffled indices for dataset at C:\\Users\\Pranav\\.cache\\huggingface\\datasets\\quora\\default\\0.0.0\\36ba4cd42107f051a158016f1bea6ae3f4685c5df843529108a54e42d86c1e04\\cache-ec709d866c1fb44d.arrow\n"
     ]
    },
    {
     "name": "stdout",
     "output_type": "stream",
     "text": [
      "{'exact_match': 0.0, 'f1': 8.20475851350948} {'accuracy': 0.390625} {'bleu': 0.2954505295601577, 'precisions': [0.8332300061996281, 0.6195286195286195, 0.4694178334561533, 0.3563873067534581], 'brevity_penalty': 0.5450141161917837, 'length_ratio': 0.6222993827160493, 'translation_length': 1613, 'reference_length': 2592} {'bleu': 0.26847403471554304, 'precisions': [0.6134371957156767, 0.3793103448275862, 0.24254215304798962, 0.14463452566096424], 'brevity_penalty': 0.893195014365957, 'length_ratio': 0.8985126859142607, 'translation_length': 1027, 'reference_length': 1143}\n",
      "\n",
      "\n",
      "\n"
     ]
    },
    {
     "data": {
      "application/vnd.jupyter.widget-view+json": {
       "model_id": "03d8ea4a1c2e44e5921c7ce893c482df",
       "version_major": 2,
       "version_minor": 0
      },
      "text/plain": [
       "HBox(children=(FloatProgress(value=0.0, max=128.0), HTML(value='')))"
      ]
     },
     "metadata": {},
     "output_type": "display_data"
    },
    {
     "name": "stderr",
     "output_type": "stream",
     "text": [
      "Loading cached shuffled indices for dataset at C:\\Users\\Pranav\\.cache\\huggingface\\datasets\\squad\\plain_text\\1.0.0\\d6ec3ceb99ca480ce37cdd35555d6cb2511d223b9150cce08a837ef62ffea453\\cache-977c2f739b69a4cc.arrow\n"
     ]
    },
    {
     "data": {
      "application/vnd.jupyter.widget-view+json": {
       "model_id": "669ca996ab9843f6991b8bdc7e59fe6c",
       "version_major": 2,
       "version_minor": 0
      },
      "text/plain": [
       "HBox(children=(FloatProgress(value=0.0, max=128.0), HTML(value='')))"
      ]
     },
     "metadata": {},
     "output_type": "display_data"
    },
    {
     "name": "stderr",
     "output_type": "stream",
     "text": [
      "Loading cached shuffled indices for dataset at C:\\Users\\Pranav\\.cache\\huggingface\\datasets\\glue\\mnli\\1.0.0\\dacbe3125aa31d7f70367a07a8a9e72a5a0bfeb5fc42e75c9db75b96da6053ad\\cache-fd6fe7d98ae3dc0c.arrow\n"
     ]
    },
    {
     "data": {
      "application/vnd.jupyter.widget-view+json": {
       "model_id": "807825f199d146e8b64ce26dde43c11b",
       "version_major": 2,
       "version_minor": 0
      },
      "text/plain": [
       "HBox(children=(FloatProgress(value=0.0, max=128.0), HTML(value='')))"
      ]
     },
     "metadata": {},
     "output_type": "display_data"
    },
    {
     "name": "stderr",
     "output_type": "stream",
     "text": [
      "Loading cached shuffled indices for dataset at C:\\Users\\Pranav\\.cache\\huggingface\\datasets\\paws\\labeled_final\\1.1.0\\09d8fae989bb569009a8f5b879ccf2924d3e5cd55bfe2e89e6dab1c0b50ecd34\\cache-c73321e70d72b703.arrow\n"
     ]
    },
    {
     "name": "stdout",
     "output_type": "stream",
     "text": [
      "\n"
     ]
    },
    {
     "data": {
      "application/vnd.jupyter.widget-view+json": {
       "model_id": "6bf92d255cc349899783c040e012d9b1",
       "version_major": 2,
       "version_minor": 0
      },
      "text/plain": [
       "HBox(children=(FloatProgress(value=0.0, max=128.0), HTML(value='')))"
      ]
     },
     "metadata": {},
     "output_type": "display_data"
    },
    {
     "name": "stderr",
     "output_type": "stream",
     "text": [
      "Loading cached shuffled indices for dataset at C:\\Users\\Pranav\\.cache\\huggingface\\datasets\\quora\\default\\0.0.0\\36ba4cd42107f051a158016f1bea6ae3f4685c5df843529108a54e42d86c1e04\\cache-ec709d866c1fb44d.arrow\n"
     ]
    },
    {
     "name": "stdout",
     "output_type": "stream",
     "text": [
      "{'exact_match': 0.0, 'f1': 7.191955896181419} {'accuracy': 0.3359375} {'bleu': 0.2804656787871629, 'precisions': [0.8203368683718029, 0.5993220338983051, 0.4446919079435783, 0.3338802296964725], 'brevity_penalty': 0.5395778606633652, 'length_ratio': 0.6184413580246914, 'translation_length': 1603, 'reference_length': 2592} {'bleu': 0.2681823930587805, 'precisions': [0.6140873015873016, 0.3784090909090909, 0.24468085106382978, 0.15544871794871795], 'brevity_penalty': 0.8746525375533846, 'length_ratio': 0.8818897637795275, 'translation_length': 1008, 'reference_length': 1143}\n",
      "Convergence reached.\n"
     ]
    }
   ],
   "source": [
    "train('qqp')"
   ]
  },
  {
   "cell_type": "code",
   "execution_count": 110,
   "id": "3083b32a",
   "metadata": {},
   "outputs": [
    {
     "data": {
      "text/plain": [
       "<matplotlib.legend.Legend at 0x233610a3f48>"
      ]
     },
     "execution_count": 110,
     "metadata": {},
     "output_type": "execute_result"
    },
    {
     "data": {
      "image/png": "[encoded data removed]",
      "text/plain": [
       "<Figure size 432x288 with 1 Axes>"
      ]
     },
     "metadata": {
      "needs_background": "light"
     },
     "output_type": "display_data"
    }
   ],
   "source": [
    "plt.plot([entry['metrics']['f1'] for entry in normal_history['squad']], label='squad-f1')\n",
    "plt.plot([entry['metrics']['accuracy'] * 100 for entry in normal_history['mnli']], label='mnli-acc')\n",
    "plt.plot([entry['metrics']['bleu'] * 100 for entry in normal_history['paws']], label='paws-bleu')\n",
    "plt.plot([entry['metrics']['bleu'] * 100 for entry in normal_history['qqp']], label='qqp-bleu')\n",
    "plt.xticks(range(len(normal_history['squad'])), [entry['iter']//500 for entry in normal_history['squad']])\n",
    "plt.xlabel('Iterations/500')\n",
    "plt.ylabel('Scaled metrics')\n",
    "plt.title('Metric plots')\n",
    "plt.legend()"
   ]
  },
  {
   "cell_type": "code",
   "execution_count": 78,
   "id": "ca05e7b9",
   "metadata": {},
   "outputs": [],
   "source": [
    "ewc_model = T5ForConditionalGeneration.from_pretrained('t5-small').to(device)"
   ]
  },
  {
   "cell_type": "code",
   "execution_count": 79,
   "id": "7fe315ce",
   "metadata": {},
   "outputs": [],
   "source": [
    "class EWC:\n",
    "    def __init__(self, m: nn.Module, dataset: list):\n",
    "\n",
    "        self.model = m\n",
    "        self.dataset = dataset\n",
    "\n",
    "        self.params = {n: p for n, p in self.model.named_parameters() if p.requires_grad}\n",
    "        self._means = {}\n",
    "        self._precision_matrices = self._diag_fisher()\n",
    "\n",
    "        for n, p in deepcopy(self.params).items():\n",
    "            self._means[n] = p.data.clone().detach().requires_grad_(True)\n",
    "\n",
    "    def _diag_fisher(self):\n",
    "        precision_matrices = {}\n",
    "        for n, p in deepcopy(self.params).items():\n",
    "            p.data.zero_()\n",
    "            precision_matrices[n] = p.data.clone().detach().requires_grad_(True)\n",
    "        \n",
    "        self.model.eval()\n",
    "        for src in self.dataset:\n",
    "            self.model.zero_grad()\n",
    "            input_ids = tokenizer(src, return_tensors=\"pt\", padding=True).input_ids.to(device)\n",
    "            decoder_input_ids = torch.tensor(0, device=device).reshape(1,1)\n",
    "            while decoder_input_ids[:, -1] != 1:\n",
    "                output = self.model(input_ids=input_ids, decoder_input_ids=decoder_input_ids).logits\n",
    "                decoder_input_ids = torch.cat((decoder_input_ids, torch.argmax(output[:, -1, :].unsqueeze(1), dim=2)), dim=1)\n",
    "\n",
    "            loss = F.nll_loss(F.log_softmax(output, dim=2).squeeze(), decoder_input_ids.squeeze()[1:])\n",
    "            loss.backward()\n",
    "            del input_ids\n",
    "            del output\n",
    "\n",
    "            for n, p in self.model.named_parameters():\n",
    "                precision_matrices[n].data += p.grad.data ** 2 / len(self.dataset)\n",
    "\n",
    "        precision_matrices = {n: p for n, p in precision_matrices.items()}\n",
    "        return precision_matrices\n",
    "\n",
    "    def penalty(self, model: nn.Module):\n",
    "        loss = 0\n",
    "        for n, p in model.named_parameters():\n",
    "            _loss = self._precision_matrices[n] * (p - self._means[n]) ** 2\n",
    "            loss += _loss.sum()\n",
    "        return loss"
   ]
  },
  {
   "cell_type": "code",
   "execution_count": 80,
   "id": "e4a12e50",
   "metadata": {},
   "outputs": [],
   "source": [
    "ewc_history = {'squad': [], 'mnli': [], 'paws': [], 'qqp': []}"
   ]
  },
  {
   "cell_type": "code",
   "execution_count": 81,
   "id": "79b2d4ff",
   "metadata": {},
   "outputs": [],
   "source": [
    "optimizer = AdamW(ewc_model.parameters(), lr=3e-4)\n",
    "num_epochs = 3\n",
    "num_training_steps_paws = num_epochs * len(paws_loader)\n",
    "num_training_steps_qqp = num_epochs * len(qqp_loader)\n",
    "lr_scheduler_paws = get_scheduler(\n",
    "    \"linear\",\n",
    "    optimizer=optimizer,\n",
    "    num_warmup_steps=0,\n",
    "    num_training_steps=num_training_steps_paws\n",
    ")\n",
    "lr_scheduler_qqp = get_scheduler(\n",
    "    \"linear\",\n",
    "    optimizer=optimizer,\n",
    "    num_warmup_steps=0,\n",
    "    num_training_steps=num_training_steps_qqp\n",
    ")"
   ]
  },
  {
   "cell_type": "code",
   "execution_count": 82,
   "id": "df4dcaff",
   "metadata": {},
   "outputs": [
    {
     "name": "stdout",
     "output_type": "stream",
     "text": [
      "The line_profiler extension is already loaded. To reload it, use:\n",
      "  %reload_ext line_profiler\n"
     ]
    }
   ],
   "source": [
    "%load_ext line_profiler\n",
    "def ewc_train(on='paws'):\n",
    "    progress_bar = tqdm(range(num_training_steps_paws)) if on=='paws' else tqdm(range(num_training_steps_qqp))\n",
    "    loader = paws_loader if on == 'paws' else qqp_loader\n",
    "    i = 0\n",
    "    \n",
    "    samples = random.sample(squad['train']['src'], 100)\n",
    "    samples += random.sample(mnli['train']['src'], 200)\n",
    "    if on == 'qqp':\n",
    "        samples += random.sample(paws['train']['sentence1'], 100)\n",
    "    convergence = False\n",
    "    prev_bleu = 100\n",
    "    print('Calculating Fisher Information Matrix...')\n",
    "    ewc = EWC(ewc_model, samples)\n",
    "    print('Done! Starting training...')\n",
    "    for epoch in range(num_epochs):\n",
    "        for batch in loader:\n",
    "            \n",
    "            if i%500 == 0:\n",
    "                s = eval_squad(ewc_model, 128)\n",
    "                m = eval_mnli(ewc_model, 128)\n",
    "                p = eval_ppg(ewc_model, 128, 'paws')\n",
    "                q = eval_ppg(ewc_model, 128, 'qqp')\n",
    "                print(s, m, p, q)\n",
    "                ewc_history['squad'].append({'iter': i, 'metrics': s})\n",
    "                ewc_history['mnli'].append({'iter': i, 'metrics': m})\n",
    "                ewc_history['paws'].append({'iter': i, 'metrics': p})\n",
    "                ewc_history['qqp'].append({'iter': i, 'metrics': q})\n",
    "                model.save_pretrained(\"checkpoints/ewc/\" + str(i))\n",
    "                \n",
    "                if on == 'paws':\n",
    "                    if(abs(p['bleu'] - prev_bleu) < 3e-3):\n",
    "                        convergence = True\n",
    "                        print('Convergence reached.')\n",
    "                        break\n",
    "                    prev_bleu = p['bleu']\n",
    "                else:\n",
    "                    if(abs(q['bleu'] - prev_bleu) < 3e-3):\n",
    "                        convergence = True\n",
    "                        print('Convergence reached.')\n",
    "                        break\n",
    "                    prev_bleu = q['bleu']\n",
    "                    \n",
    "                model.train()\n",
    "                \n",
    "            input_ids = tokenizer(batch['sentence1'], return_tensors=\"pt\", padding=True).input_ids.to(device)\n",
    "            labels = tokenizer(batch['sentence2'], return_tensors=\"pt\", padding=True).input_ids.to(device)\n",
    "            outputs = ewc_model(input_ids=input_ids, labels=labels)\n",
    "            ewc_loss = outputs.loss + 1000 * ewc.penalty(ewc_model)\n",
    "            ewc_loss.backward()\n",
    "            optimizer.step()\n",
    "            if on == 'paws':\n",
    "                lr_scheduler_paws.step()\n",
    "            else:\n",
    "                lr_scheduler_qqp.step()\n",
    "            optimizer.zero_grad()\n",
    "            del input_ids\n",
    "            del labels\n",
    "            del outputs\n",
    "            i = i + 1\n",
    "            progress_bar.update(1)\n",
    "            \n",
    "        if convergence:\n",
    "            break"
   ]
  },
  {
   "cell_type": "code",
   "execution_count": 83,
   "id": "1c245041",
   "metadata": {
    "scrolled": true
   },
   "outputs": [
    {
     "data": {
      "application/vnd.jupyter.widget-view+json": {
       "model_id": "36b7e94204f645c998cf8ffe330363ee",
       "version_major": 2,
       "version_minor": 0
      },
      "text/plain": [
       "HBox(children=(FloatProgress(value=0.0, max=16374.0), HTML(value='')))"
      ]
     },
     "metadata": {},
     "output_type": "display_data"
    },
    {
     "name": "stdout",
     "output_type": "stream",
     "text": [
      "Calculating Fisher Information Matrix...\n",
      "Done! Starting training...\n"
     ]
    },
    {
     "data": {
      "application/vnd.jupyter.widget-view+json": {
       "model_id": "688d0d26064845e18e6653fb0770c134",
       "version_major": 2,
       "version_minor": 0
      },
      "text/plain": [
       "HBox(children=(FloatProgress(value=0.0, max=128.0), HTML(value='')))"
      ]
     },
     "metadata": {},
     "output_type": "display_data"
    },
    {
     "name": "stderr",
     "output_type": "stream",
     "text": [
      "Loading cached shuffled indices for dataset at C:\\Users\\Pranav\\.cache\\huggingface\\datasets\\squad\\plain_text\\1.0.0\\d6ec3ceb99ca480ce37cdd35555d6cb2511d223b9150cce08a837ef62ffea453\\cache-977c2f739b69a4cc.arrow\n"
     ]
    },
    {
     "data": {
      "application/vnd.jupyter.widget-view+json": {
       "model_id": "5221025a736d4b0ea51d9a787e1323cf",
       "version_major": 2,
       "version_minor": 0
      },
      "text/plain": [
       "HBox(children=(FloatProgress(value=0.0, max=128.0), HTML(value='')))"
      ]
     },
     "metadata": {},
     "output_type": "display_data"
    },
    {
     "name": "stderr",
     "output_type": "stream",
     "text": [
      "Loading cached shuffled indices for dataset at C:\\Users\\Pranav\\.cache\\huggingface\\datasets\\glue\\mnli\\1.0.0\\dacbe3125aa31d7f70367a07a8a9e72a5a0bfeb5fc42e75c9db75b96da6053ad\\cache-fd6fe7d98ae3dc0c.arrow\n"
     ]
    },
    {
     "data": {
      "application/vnd.jupyter.widget-view+json": {
       "model_id": "657c79efe7784e08894ad00bdf542981",
       "version_major": 2,
       "version_minor": 0
      },
      "text/plain": [
       "HBox(children=(FloatProgress(value=0.0, max=128.0), HTML(value='')))"
      ]
     },
     "metadata": {},
     "output_type": "display_data"
    },
    {
     "name": "stderr",
     "output_type": "stream",
     "text": [
      "Loading cached shuffled indices for dataset at C:\\Users\\Pranav\\.cache\\huggingface\\datasets\\paws\\labeled_final\\1.1.0\\09d8fae989bb569009a8f5b879ccf2924d3e5cd55bfe2e89e6dab1c0b50ecd34\\cache-c73321e70d72b703.arrow\n"
     ]
    },
    {
     "name": "stdout",
     "output_type": "stream",
     "text": [
      "\n",
      "\n"
     ]
    },
    {
     "data": {
      "application/vnd.jupyter.widget-view+json": {
       "model_id": "5f102906f0334ca683610becc1dbade6",
       "version_major": 2,
       "version_minor": 0
      },
      "text/plain": [
       "HBox(children=(FloatProgress(value=0.0, max=128.0), HTML(value='')))"
      ]
     },
     "metadata": {},
     "output_type": "display_data"
    },
    {
     "name": "stderr",
     "output_type": "stream",
     "text": [
      "Loading cached shuffled indices for dataset at C:\\Users\\Pranav\\.cache\\huggingface\\datasets\\quora\\default\\0.0.0\\36ba4cd42107f051a158016f1bea6ae3f4685c5df843529108a54e42d86c1e04\\cache-ec709d866c1fb44d.arrow\n"
     ]
    },
    {
     "name": "stdout",
     "output_type": "stream",
     "text": [
      "{'exact_match': 76.5625, 'f1': 84.84990397674223} {'accuracy': 0.7890625} {'bleu': 0.003713526202373805, 'precisions': [0.5900900900900901, 0.569620253164557, 0.4355400696864111, 0.32945736434108525], 'brevity_penalty': 0.007924168880528161, 'length_ratio': 0.1712962962962963, 'translation_length': 444, 'reference_length': 2592} {'bleu': 0.03005037837237978, 'precisions': [0.38392857142857145, 0.21875, 0.10144927536231885, 0.04741379310344827], 'brevity_penalty': 0.21196390341569352, 'length_ratio': 0.39195100612423445, 'translation_length': 448, 'reference_length': 1143}\n"
     ]
    },
    {
     "data": {
      "application/vnd.jupyter.widget-view+json": {
       "model_id": "2bb86a3728544bd8ae8800d12b598548",
       "version_major": 2,
       "version_minor": 0
      },
      "text/plain": [
       "HBox(children=(FloatProgress(value=0.0, max=128.0), HTML(value='')))"
      ]
     },
     "metadata": {},
     "output_type": "display_data"
    },
    {
     "name": "stderr",
     "output_type": "stream",
     "text": [
      "Loading cached shuffled indices for dataset at C:\\Users\\Pranav\\.cache\\huggingface\\datasets\\squad\\plain_text\\1.0.0\\d6ec3ceb99ca480ce37cdd35555d6cb2511d223b9150cce08a837ef62ffea453\\cache-977c2f739b69a4cc.arrow\n"
     ]
    },
    {
     "name": "stdout",
     "output_type": "stream",
     "text": [
      "\n"
     ]
    },
    {
     "data": {
      "application/vnd.jupyter.widget-view+json": {
       "model_id": "547dd67a9d8d4a7c896295604a4b165d",
       "version_major": 2,
       "version_minor": 0
      },
      "text/plain": [
       "HBox(children=(FloatProgress(value=0.0, max=128.0), HTML(value='')))"
      ]
     },
     "metadata": {},
     "output_type": "display_data"
    },
    {
     "name": "stderr",
     "output_type": "stream",
     "text": [
      "Loading cached shuffled indices for dataset at C:\\Users\\Pranav\\.cache\\huggingface\\datasets\\glue\\mnli\\1.0.0\\dacbe3125aa31d7f70367a07a8a9e72a5a0bfeb5fc42e75c9db75b96da6053ad\\cache-fd6fe7d98ae3dc0c.arrow\n"
     ]
    },
    {
     "data": {
      "application/vnd.jupyter.widget-view+json": {
       "model_id": "70f8887cff0f495782b01094bb9afca1",
       "version_major": 2,
       "version_minor": 0
      },
      "text/plain": [
       "HBox(children=(FloatProgress(value=0.0, max=128.0), HTML(value='')))"
      ]
     },
     "metadata": {},
     "output_type": "display_data"
    },
    {
     "name": "stderr",
     "output_type": "stream",
     "text": [
      "Loading cached shuffled indices for dataset at C:\\Users\\Pranav\\.cache\\huggingface\\datasets\\paws\\labeled_final\\1.1.0\\09d8fae989bb569009a8f5b879ccf2924d3e5cd55bfe2e89e6dab1c0b50ecd34\\cache-c73321e70d72b703.arrow\n"
     ]
    },
    {
     "name": "stdout",
     "output_type": "stream",
     "text": [
      "\n"
     ]
    },
    {
     "data": {
      "application/vnd.jupyter.widget-view+json": {
       "model_id": "d2e0dc777be14e6c8169fcf2240f8f86",
       "version_major": 2,
       "version_minor": 0
      },
      "text/plain": [
       "HBox(children=(FloatProgress(value=0.0, max=128.0), HTML(value='')))"
      ]
     },
     "metadata": {},
     "output_type": "display_data"
    },
    {
     "name": "stderr",
     "output_type": "stream",
     "text": [
      "Loading cached shuffled indices for dataset at C:\\Users\\Pranav\\.cache\\huggingface\\datasets\\quora\\default\\0.0.0\\36ba4cd42107f051a158016f1bea6ae3f4685c5df843529108a54e42d86c1e04\\cache-ec709d866c1fb44d.arrow\n"
     ]
    },
    {
     "name": "stdout",
     "output_type": "stream",
     "text": [
      "{'exact_match': 73.4375, 'f1': 84.40275563896887} {'accuracy': 0.7890625} {'bleu': 0.29978969068953853, 'precisions': [0.8316770186335404, 0.6288798920377868, 0.4815361890694239, 0.36786296900489396], 'brevity_penalty': 0.5433846186237964, 'length_ratio': 0.621141975308642, 'translation_length': 1610, 'reference_length': 2592} {'bleu': 0.2378596837032083, 'precisions': [0.5539437896645513, 0.3261538461538461, 0.1912632821723731, 0.1070931849791377], 'brevity_penalty': 0.9643849556003293, 'length_ratio': 0.9650043744531933, 'translation_length': 1103, 'reference_length': 1143}\n"
     ]
    },
    {
     "data": {
      "application/vnd.jupyter.widget-view+json": {
       "model_id": "8f521c17d5ab45e7a018811d8cbb0479",
       "version_major": 2,
       "version_minor": 0
      },
      "text/plain": [
       "HBox(children=(FloatProgress(value=0.0, max=128.0), HTML(value='')))"
      ]
     },
     "metadata": {},
     "output_type": "display_data"
    },
    {
     "name": "stderr",
     "output_type": "stream",
     "text": [
      "Loading cached shuffled indices for dataset at C:\\Users\\Pranav\\.cache\\huggingface\\datasets\\squad\\plain_text\\1.0.0\\d6ec3ceb99ca480ce37cdd35555d6cb2511d223b9150cce08a837ef62ffea453\\cache-977c2f739b69a4cc.arrow\n"
     ]
    },
    {
     "name": "stdout",
     "output_type": "stream",
     "text": [
      "\n",
      "\n"
     ]
    },
    {
     "data": {
      "application/vnd.jupyter.widget-view+json": {
       "model_id": "397437a3add4473384af062c1c83a0be",
       "version_major": 2,
       "version_minor": 0
      },
      "text/plain": [
       "HBox(children=(FloatProgress(value=0.0, max=128.0), HTML(value='')))"
      ]
     },
     "metadata": {},
     "output_type": "display_data"
    },
    {
     "name": "stderr",
     "output_type": "stream",
     "text": [
      "Loading cached shuffled indices for dataset at C:\\Users\\Pranav\\.cache\\huggingface\\datasets\\glue\\mnli\\1.0.0\\dacbe3125aa31d7f70367a07a8a9e72a5a0bfeb5fc42e75c9db75b96da6053ad\\cache-fd6fe7d98ae3dc0c.arrow\n"
     ]
    },
    {
     "data": {
      "application/vnd.jupyter.widget-view+json": {
       "model_id": "35ee6f0b3dae450eacac62016ec48720",
       "version_major": 2,
       "version_minor": 0
      },
      "text/plain": [
       "HBox(children=(FloatProgress(value=0.0, max=128.0), HTML(value='')))"
      ]
     },
     "metadata": {},
     "output_type": "display_data"
    },
    {
     "name": "stderr",
     "output_type": "stream",
     "text": [
      "Loading cached shuffled indices for dataset at C:\\Users\\Pranav\\.cache\\huggingface\\datasets\\paws\\labeled_final\\1.1.0\\09d8fae989bb569009a8f5b879ccf2924d3e5cd55bfe2e89e6dab1c0b50ecd34\\cache-c73321e70d72b703.arrow\n"
     ]
    },
    {
     "name": "stdout",
     "output_type": "stream",
     "text": [
      "\n"
     ]
    },
    {
     "data": {
      "application/vnd.jupyter.widget-view+json": {
       "model_id": "9ca6f032e8dd42d2b5940f9ec261f032",
       "version_major": 2,
       "version_minor": 0
      },
      "text/plain": [
       "HBox(children=(FloatProgress(value=0.0, max=128.0), HTML(value='')))"
      ]
     },
     "metadata": {},
     "output_type": "display_data"
    },
    {
     "name": "stderr",
     "output_type": "stream",
     "text": [
      "Loading cached shuffled indices for dataset at C:\\Users\\Pranav\\.cache\\huggingface\\datasets\\quora\\default\\0.0.0\\36ba4cd42107f051a158016f1bea6ae3f4685c5df843529108a54e42d86c1e04\\cache-ec709d866c1fb44d.arrow\n"
     ]
    },
    {
     "name": "stdout",
     "output_type": "stream",
     "text": [
      "{'exact_match': 75.0, 'f1': 84.9737991787624} {'accuracy': 0.8203125} {'bleu': 0.30594662666155487, 'precisions': [0.8346650276582668, 0.6317545030020013, 0.48358862144420134, 0.3684633950120676], 'brevity_penalty': 0.5526025982055788, 'length_ratio': 0.6277006172839507, 'translation_length': 1627, 'reference_length': 2592} {'bleu': 0.2331482009083517, 'precisions': [0.5462633451957295, 0.31827309236947793, 0.18433179723502305, 0.09864864864864865], 'brevity_penalty': 0.9832381549367382, 'length_ratio': 0.9833770778652668, 'translation_length': 1124, 'reference_length': 1143}\n",
      "\n",
      "\n"
     ]
    },
    {
     "data": {
      "application/vnd.jupyter.widget-view+json": {
       "model_id": "eaaaaef715df44338b23d51a9f7f3fba",
       "version_major": 2,
       "version_minor": 0
      },
      "text/plain": [
       "HBox(children=(FloatProgress(value=0.0, max=128.0), HTML(value='')))"
      ]
     },
     "metadata": {},
     "output_type": "display_data"
    },
    {
     "name": "stderr",
     "output_type": "stream",
     "text": [
      "Loading cached shuffled indices for dataset at C:\\Users\\Pranav\\.cache\\huggingface\\datasets\\squad\\plain_text\\1.0.0\\d6ec3ceb99ca480ce37cdd35555d6cb2511d223b9150cce08a837ef62ffea453\\cache-977c2f739b69a4cc.arrow\n"
     ]
    },
    {
     "data": {
      "application/vnd.jupyter.widget-view+json": {
       "model_id": "e181934ca1744599abeeb74c3221a666",
       "version_major": 2,
       "version_minor": 0
      },
      "text/plain": [
       "HBox(children=(FloatProgress(value=0.0, max=128.0), HTML(value='')))"
      ]
     },
     "metadata": {},
     "output_type": "display_data"
    },
    {
     "name": "stderr",
     "output_type": "stream",
     "text": [
      "Loading cached shuffled indices for dataset at C:\\Users\\Pranav\\.cache\\huggingface\\datasets\\glue\\mnli\\1.0.0\\dacbe3125aa31d7f70367a07a8a9e72a5a0bfeb5fc42e75c9db75b96da6053ad\\cache-fd6fe7d98ae3dc0c.arrow\n"
     ]
    },
    {
     "data": {
      "application/vnd.jupyter.widget-view+json": {
       "model_id": "cc1e58f44cf1477eb51cb4eb73a96248",
       "version_major": 2,
       "version_minor": 0
      },
      "text/plain": [
       "HBox(children=(FloatProgress(value=0.0, max=128.0), HTML(value='')))"
      ]
     },
     "metadata": {},
     "output_type": "display_data"
    },
    {
     "name": "stderr",
     "output_type": "stream",
     "text": [
      "Loading cached shuffled indices for dataset at C:\\Users\\Pranav\\.cache\\huggingface\\datasets\\paws\\labeled_final\\1.1.0\\09d8fae989bb569009a8f5b879ccf2924d3e5cd55bfe2e89e6dab1c0b50ecd34\\cache-c73321e70d72b703.arrow\n"
     ]
    },
    {
     "name": "stdout",
     "output_type": "stream",
     "text": [
      "\n"
     ]
    },
    {
     "data": {
      "application/vnd.jupyter.widget-view+json": {
       "model_id": "8396a45e4d154566af46faf767330af1",
       "version_major": 2,
       "version_minor": 0
      },
      "text/plain": [
       "HBox(children=(FloatProgress(value=0.0, max=128.0), HTML(value='')))"
      ]
     },
     "metadata": {},
     "output_type": "display_data"
    },
    {
     "name": "stderr",
     "output_type": "stream",
     "text": [
      "Loading cached shuffled indices for dataset at C:\\Users\\Pranav\\.cache\\huggingface\\datasets\\quora\\default\\0.0.0\\36ba4cd42107f051a158016f1bea6ae3f4685c5df843529108a54e42d86c1e04\\cache-ec709d866c1fb44d.arrow\n"
     ]
    },
    {
     "name": "stdout",
     "output_type": "stream",
     "text": [
      "{'exact_match': 73.4375, 'f1': 84.55428762414058} {'accuracy': 0.8046875} {'bleu': 0.3057615201010084, 'precisions': [0.8355911330049262, 0.6303475935828877, 0.4853801169590643, 0.3709677419354839], 'brevity_penalty': 0.5509787078587339, 'length_ratio': 0.6265432098765432, 'translation_length': 1624, 'reference_length': 2592} {'bleu': 0.23844496173506044, 'precisions': [0.5564516129032258, 0.3188259109311741, 0.1883720930232558, 0.10655737704918032], 'brevity_penalty': 0.9760967695185692, 'length_ratio': 0.9763779527559056, 'translation_length': 1116, 'reference_length': 1143}\n",
      "Convergence reached.\n"
     ]
    }
   ],
   "source": [
    "%lprun -f ewc_train ewc_train()"
   ]
  },
  {
   "cell_type": "code",
   "execution_count": 84,
   "id": "7fe61314",
   "metadata": {},
   "outputs": [
    {
     "data": {
      "text/plain": [
       "<matplotlib.legend.Legend at 0x2335f181808>"
      ]
     },
     "execution_count": 84,
     "metadata": {},
     "output_type": "execute_result"
    },
    {
     "name": "stdout",
     "output_type": "stream",
     "text": [
      "\n",
      "\n",
      "\n"
     ]
    },
    {
     "data": {
      "image/png": "[encoded data removed]",
      "text/plain": [
       "<Figure size 432x288 with 1 Axes>"
      ]
     },
     "metadata": {
      "needs_background": "light"
     },
     "output_type": "display_data"
    }
   ],
   "source": [
    "plt.plot([entry['metrics']['f1'] for entry in ewc_history['squad']], label='squad-f1')\n",
    "plt.plot([entry['metrics']['accuracy'] * 100 for entry in ewc_history['mnli']], label='mnli-acc')\n",
    "plt.plot([entry['metrics']['bleu'] * 100 for entry in ewc_history['paws']], label='paws-bleu')\n",
    "plt.plot([entry['metrics']['bleu'] * 100 for entry in ewc_history['qqp']], label='qqp-bleu')\n",
    "plt.legend()"
   ]
  },
  {
   "cell_type": "code",
   "execution_count": 85,
   "id": "8717c751",
   "metadata": {
    "scrolled": true
   },
   "outputs": [
    {
     "data": {
      "application/vnd.jupyter.widget-view+json": {
       "model_id": "2b5b78fbfba84ecab80fd8a22359d156",
       "version_major": 2,
       "version_minor": 0
      },
      "text/plain": [
       "HBox(children=(FloatProgress(value=0.0, max=89559.0), HTML(value='')))"
      ]
     },
     "metadata": {},
     "output_type": "display_data"
    },
    {
     "name": "stdout",
     "output_type": "stream",
     "text": [
      "Calculating Fisher Information Matrix...\n",
      "Done! Starting training...\n"
     ]
    },
    {
     "data": {
      "application/vnd.jupyter.widget-view+json": {
       "model_id": "5635170e74f24fdb9be77b70c518d13b",
       "version_major": 2,
       "version_minor": 0
      },
      "text/plain": [
       "HBox(children=(FloatProgress(value=0.0, max=128.0), HTML(value='')))"
      ]
     },
     "metadata": {},
     "output_type": "display_data"
    },
    {
     "name": "stderr",
     "output_type": "stream",
     "text": [
      "Loading cached shuffled indices for dataset at C:\\Users\\Pranav\\.cache\\huggingface\\datasets\\squad\\plain_text\\1.0.0\\d6ec3ceb99ca480ce37cdd35555d6cb2511d223b9150cce08a837ef62ffea453\\cache-977c2f739b69a4cc.arrow\n"
     ]
    },
    {
     "data": {
      "application/vnd.jupyter.widget-view+json": {
       "model_id": "354bffae701741bb8054169a77c66a6c",
       "version_major": 2,
       "version_minor": 0
      },
      "text/plain": [
       "HBox(children=(FloatProgress(value=0.0, max=128.0), HTML(value='')))"
      ]
     },
     "metadata": {},
     "output_type": "display_data"
    },
    {
     "name": "stderr",
     "output_type": "stream",
     "text": [
      "Loading cached shuffled indices for dataset at C:\\Users\\Pranav\\.cache\\huggingface\\datasets\\glue\\mnli\\1.0.0\\dacbe3125aa31d7f70367a07a8a9e72a5a0bfeb5fc42e75c9db75b96da6053ad\\cache-fd6fe7d98ae3dc0c.arrow\n"
     ]
    },
    {
     "data": {
      "application/vnd.jupyter.widget-view+json": {
       "model_id": "5b9137a1803846c4979dd26a789c30e2",
       "version_major": 2,
       "version_minor": 0
      },
      "text/plain": [
       "HBox(children=(FloatProgress(value=0.0, max=128.0), HTML(value='')))"
      ]
     },
     "metadata": {},
     "output_type": "display_data"
    },
    {
     "name": "stderr",
     "output_type": "stream",
     "text": [
      "Loading cached shuffled indices for dataset at C:\\Users\\Pranav\\.cache\\huggingface\\datasets\\paws\\labeled_final\\1.1.0\\09d8fae989bb569009a8f5b879ccf2924d3e5cd55bfe2e89e6dab1c0b50ecd34\\cache-c73321e70d72b703.arrow\n"
     ]
    },
    {
     "name": "stdout",
     "output_type": "stream",
     "text": [
      "\n"
     ]
    },
    {
     "data": {
      "application/vnd.jupyter.widget-view+json": {
       "model_id": "a4be0c700378483d854fcb496d94a80c",
       "version_major": 2,
       "version_minor": 0
      },
      "text/plain": [
       "HBox(children=(FloatProgress(value=0.0, max=128.0), HTML(value='')))"
      ]
     },
     "metadata": {},
     "output_type": "display_data"
    },
    {
     "name": "stderr",
     "output_type": "stream",
     "text": [
      "Loading cached shuffled indices for dataset at C:\\Users\\Pranav\\.cache\\huggingface\\datasets\\quora\\default\\0.0.0\\36ba4cd42107f051a158016f1bea6ae3f4685c5df843529108a54e42d86c1e04\\cache-ec709d866c1fb44d.arrow\n"
     ]
    },
    {
     "name": "stdout",
     "output_type": "stream",
     "text": [
      "{'exact_match': 73.4375, 'f1': 84.55428762414058} {'accuracy': 0.8046875} {'bleu': 0.3057615201010084, 'precisions': [0.8355911330049262, 0.6303475935828877, 0.4853801169590643, 0.3709677419354839], 'brevity_penalty': 0.5509787078587339, 'length_ratio': 0.6265432098765432, 'translation_length': 1624, 'reference_length': 2592} {'bleu': 0.23844496173506044, 'precisions': [0.5564516129032258, 0.3188259109311741, 0.1883720930232558, 0.10655737704918032], 'brevity_penalty': 0.9760967695185692, 'length_ratio': 0.9763779527559056, 'translation_length': 1116, 'reference_length': 1143}\n",
      "\n",
      "\n",
      "\n"
     ]
    },
    {
     "data": {
      "application/vnd.jupyter.widget-view+json": {
       "model_id": "68fef0964e7841a8a0983fb3b607e26c",
       "version_major": 2,
       "version_minor": 0
      },
      "text/plain": [
       "HBox(children=(FloatProgress(value=0.0, max=128.0), HTML(value='')))"
      ]
     },
     "metadata": {},
     "output_type": "display_data"
    },
    {
     "name": "stderr",
     "output_type": "stream",
     "text": [
      "Loading cached shuffled indices for dataset at C:\\Users\\Pranav\\.cache\\huggingface\\datasets\\squad\\plain_text\\1.0.0\\d6ec3ceb99ca480ce37cdd35555d6cb2511d223b9150cce08a837ef62ffea453\\cache-977c2f739b69a4cc.arrow\n"
     ]
    },
    {
     "data": {
      "application/vnd.jupyter.widget-view+json": {
       "model_id": "dd056db851994a64a5e307710f0560c2",
       "version_major": 2,
       "version_minor": 0
      },
      "text/plain": [
       "HBox(children=(FloatProgress(value=0.0, max=128.0), HTML(value='')))"
      ]
     },
     "metadata": {},
     "output_type": "display_data"
    },
    {
     "name": "stderr",
     "output_type": "stream",
     "text": [
      "Loading cached shuffled indices for dataset at C:\\Users\\Pranav\\.cache\\huggingface\\datasets\\glue\\mnli\\1.0.0\\dacbe3125aa31d7f70367a07a8a9e72a5a0bfeb5fc42e75c9db75b96da6053ad\\cache-fd6fe7d98ae3dc0c.arrow\n"
     ]
    },
    {
     "data": {
      "application/vnd.jupyter.widget-view+json": {
       "model_id": "19a80b9883b94c6e9ff7fea7520aa5bf",
       "version_major": 2,
       "version_minor": 0
      },
      "text/plain": [
       "HBox(children=(FloatProgress(value=0.0, max=128.0), HTML(value='')))"
      ]
     },
     "metadata": {},
     "output_type": "display_data"
    },
    {
     "name": "stderr",
     "output_type": "stream",
     "text": [
      "Loading cached shuffled indices for dataset at C:\\Users\\Pranav\\.cache\\huggingface\\datasets\\paws\\labeled_final\\1.1.0\\09d8fae989bb569009a8f5b879ccf2924d3e5cd55bfe2e89e6dab1c0b50ecd34\\cache-c73321e70d72b703.arrow\n"
     ]
    },
    {
     "name": "stdout",
     "output_type": "stream",
     "text": [
      "\n"
     ]
    },
    {
     "data": {
      "application/vnd.jupyter.widget-view+json": {
       "model_id": "be17209fa43a400a955065100b516e34",
       "version_major": 2,
       "version_minor": 0
      },
      "text/plain": [
       "HBox(children=(FloatProgress(value=0.0, max=128.0), HTML(value='')))"
      ]
     },
     "metadata": {},
     "output_type": "display_data"
    },
    {
     "name": "stderr",
     "output_type": "stream",
     "text": [
      "Loading cached shuffled indices for dataset at C:\\Users\\Pranav\\.cache\\huggingface\\datasets\\quora\\default\\0.0.0\\36ba4cd42107f051a158016f1bea6ae3f4685c5df843529108a54e42d86c1e04\\cache-ec709d866c1fb44d.arrow\n"
     ]
    },
    {
     "name": "stdout",
     "output_type": "stream",
     "text": [
      "{'exact_match': 68.75, 'f1': 80.73172385212827} {'accuracy': 0.8203125} {'bleu': 0.2952292983814322, 'precisions': [0.8279503105590063, 0.6261808367071525, 0.4704579025110783, 0.3572593800978793], 'brevity_penalty': 0.5433846186237964, 'length_ratio': 0.621141975308642, 'translation_length': 1610, 'reference_length': 2592} {'bleu': 0.2723564640569498, 'precisions': [0.6098265895953757, 0.37142857142857144, 0.24296675191815856, 0.14984709480122324], 'brevity_penalty': 0.9037919676404447, 'length_ratio': 0.9081364829396326, 'translation_length': 1038, 'reference_length': 1143}\n",
      "\n",
      "\n",
      "\n"
     ]
    },
    {
     "data": {
      "application/vnd.jupyter.widget-view+json": {
       "model_id": "d57ddcf666a04e58bb88cfc0ca546552",
       "version_major": 2,
       "version_minor": 0
      },
      "text/plain": [
       "HBox(children=(FloatProgress(value=0.0, max=128.0), HTML(value='')))"
      ]
     },
     "metadata": {},
     "output_type": "display_data"
    },
    {
     "name": "stderr",
     "output_type": "stream",
     "text": [
      "Loading cached shuffled indices for dataset at C:\\Users\\Pranav\\.cache\\huggingface\\datasets\\squad\\plain_text\\1.0.0\\d6ec3ceb99ca480ce37cdd35555d6cb2511d223b9150cce08a837ef62ffea453\\cache-977c2f739b69a4cc.arrow\n"
     ]
    },
    {
     "data": {
      "application/vnd.jupyter.widget-view+json": {
       "model_id": "04e51b24e50a429eb1cedef8f2213094",
       "version_major": 2,
       "version_minor": 0
      },
      "text/plain": [
       "HBox(children=(FloatProgress(value=0.0, max=128.0), HTML(value='')))"
      ]
     },
     "metadata": {},
     "output_type": "display_data"
    },
    {
     "name": "stderr",
     "output_type": "stream",
     "text": [
      "Loading cached shuffled indices for dataset at C:\\Users\\Pranav\\.cache\\huggingface\\datasets\\glue\\mnli\\1.0.0\\dacbe3125aa31d7f70367a07a8a9e72a5a0bfeb5fc42e75c9db75b96da6053ad\\cache-fd6fe7d98ae3dc0c.arrow\n"
     ]
    },
    {
     "data": {
      "application/vnd.jupyter.widget-view+json": {
       "model_id": "da57308808ab403a8e298cd7e894cc9e",
       "version_major": 2,
       "version_minor": 0
      },
      "text/plain": [
       "HBox(children=(FloatProgress(value=0.0, max=128.0), HTML(value='')))"
      ]
     },
     "metadata": {},
     "output_type": "display_data"
    },
    {
     "name": "stderr",
     "output_type": "stream",
     "text": [
      "Loading cached shuffled indices for dataset at C:\\Users\\Pranav\\.cache\\huggingface\\datasets\\paws\\labeled_final\\1.1.0\\09d8fae989bb569009a8f5b879ccf2924d3e5cd55bfe2e89e6dab1c0b50ecd34\\cache-c73321e70d72b703.arrow\n"
     ]
    },
    {
     "name": "stdout",
     "output_type": "stream",
     "text": [
      "\n"
     ]
    },
    {
     "data": {
      "application/vnd.jupyter.widget-view+json": {
       "model_id": "a52e9447ffa04d2a8e1aea886eb0bac8",
       "version_major": 2,
       "version_minor": 0
      },
      "text/plain": [
       "HBox(children=(FloatProgress(value=0.0, max=128.0), HTML(value='')))"
      ]
     },
     "metadata": {},
     "output_type": "display_data"
    },
    {
     "name": "stderr",
     "output_type": "stream",
     "text": [
      "Loading cached shuffled indices for dataset at C:\\Users\\Pranav\\.cache\\huggingface\\datasets\\quora\\default\\0.0.0\\36ba4cd42107f051a158016f1bea6ae3f4685c5df843529108a54e42d86c1e04\\cache-ec709d866c1fb44d.arrow\n"
     ]
    },
    {
     "name": "stdout",
     "output_type": "stream",
     "text": [
      "{'exact_match': 67.1875, 'f1': 80.64314094300306} {'accuracy': 0.8359375} {'bleu': 0.2984723457588055, 'precisions': [0.8281829419035847, 0.6201342281879194, 0.4750367107195301, 0.36142625607779577], 'brevity_penalty': 0.5477272963412356, 'length_ratio': 0.6242283950617284, 'translation_length': 1618, 'reference_length': 2592} {'bleu': 0.2693414044172964, 'precisions': [0.5949008498583569, 0.36305048335123524, 0.2328767123287671, 0.1437037037037037], 'brevity_penalty': 0.9237441743014956, 'length_ratio': 0.926509186351706, 'translation_length': 1059, 'reference_length': 1143}\n",
      "\n",
      "\n",
      "\n"
     ]
    },
    {
     "data": {
      "application/vnd.jupyter.widget-view+json": {
       "model_id": "088cdab633514859815ed81e168c3d87",
       "version_major": 2,
       "version_minor": 0
      },
      "text/plain": [
       "HBox(children=(FloatProgress(value=0.0, max=128.0), HTML(value='')))"
      ]
     },
     "metadata": {},
     "output_type": "display_data"
    },
    {
     "name": "stderr",
     "output_type": "stream",
     "text": [
      "Loading cached shuffled indices for dataset at C:\\Users\\Pranav\\.cache\\huggingface\\datasets\\squad\\plain_text\\1.0.0\\d6ec3ceb99ca480ce37cdd35555d6cb2511d223b9150cce08a837ef62ffea453\\cache-977c2f739b69a4cc.arrow\n"
     ]
    },
    {
     "data": {
      "application/vnd.jupyter.widget-view+json": {
       "model_id": "32f04189dbb14b179f176c7e6317e003",
       "version_major": 2,
       "version_minor": 0
      },
      "text/plain": [
       "HBox(children=(FloatProgress(value=0.0, max=128.0), HTML(value='')))"
      ]
     },
     "metadata": {},
     "output_type": "display_data"
    },
    {
     "name": "stderr",
     "output_type": "stream",
     "text": [
      "Loading cached shuffled indices for dataset at C:\\Users\\Pranav\\.cache\\huggingface\\datasets\\glue\\mnli\\1.0.0\\dacbe3125aa31d7f70367a07a8a9e72a5a0bfeb5fc42e75c9db75b96da6053ad\\cache-fd6fe7d98ae3dc0c.arrow\n"
     ]
    },
    {
     "data": {
      "application/vnd.jupyter.widget-view+json": {
       "model_id": "c108c0de00a243088273f61d3fdfb112",
       "version_major": 2,
       "version_minor": 0
      },
      "text/plain": [
       "HBox(children=(FloatProgress(value=0.0, max=128.0), HTML(value='')))"
      ]
     },
     "metadata": {},
     "output_type": "display_data"
    },
    {
     "name": "stderr",
     "output_type": "stream",
     "text": [
      "Loading cached shuffled indices for dataset at C:\\Users\\Pranav\\.cache\\huggingface\\datasets\\paws\\labeled_final\\1.1.0\\09d8fae989bb569009a8f5b879ccf2924d3e5cd55bfe2e89e6dab1c0b50ecd34\\cache-c73321e70d72b703.arrow\n"
     ]
    },
    {
     "name": "stdout",
     "output_type": "stream",
     "text": [
      "\n"
     ]
    },
    {
     "data": {
      "application/vnd.jupyter.widget-view+json": {
       "model_id": "5dbdefba36e94e86bd2f13361efb3b79",
       "version_major": 2,
       "version_minor": 0
      },
      "text/plain": [
       "HBox(children=(FloatProgress(value=0.0, max=128.0), HTML(value='')))"
      ]
     },
     "metadata": {},
     "output_type": "display_data"
    },
    {
     "name": "stderr",
     "output_type": "stream",
     "text": [
      "Loading cached shuffled indices for dataset at C:\\Users\\Pranav\\.cache\\huggingface\\datasets\\quora\\default\\0.0.0\\36ba4cd42107f051a158016f1bea6ae3f4685c5df843529108a54e42d86c1e04\\cache-ec709d866c1fb44d.arrow\n"
     ]
    },
    {
     "name": "stdout",
     "output_type": "stream",
     "text": [
      "{'exact_match': 67.96875, 'f1': 79.09880445840925} {'accuracy': 0.8203125} {'bleu': 0.28667990319705666, 'precisions': [0.8244846970643348, 0.6096401900882552, 0.45839524517087665, 0.34864643150123054], 'brevity_penalty': 0.5384890416195149, 'length_ratio': 0.6176697530864198, 'translation_length': 1601, 'reference_length': 2592} {'bleu': 0.2700776797809524, 'precisions': [0.5926640926640927, 0.3634361233480176, 0.24102564102564103, 0.1549079754601227], 'brevity_penalty': 0.9018727418630833, 'length_ratio': 0.9063867016622922, 'translation_length': 1036, 'reference_length': 1143}\n",
      "Convergence reached.\n"
     ]
    }
   ],
   "source": [
    "ewc_train('ppg')"
   ]
  },
  {
   "cell_type": "code",
   "execution_count": 111,
   "id": "187f9986",
   "metadata": {},
   "outputs": [
    {
     "data": {
      "text/plain": [
       "<matplotlib.legend.Legend at 0x23403673e08>"
      ]
     },
     "execution_count": 111,
     "metadata": {},
     "output_type": "execute_result"
    },
    {
     "data": {
      "image/png": "[encoded data removed]",
      "text/plain": [
       "<Figure size 432x288 with 1 Axes>"
      ]
     },
     "metadata": {
      "needs_background": "light"
     },
     "output_type": "display_data"
    }
   ],
   "source": [
    "plt.plot([entry['metrics']['f1'] for entry in ewc_history['squad']], label='squad-f1')\n",
    "plt.plot([entry['metrics']['accuracy'] * 100 for entry in ewc_history['mnli']], label='mnli-acc')\n",
    "plt.plot([entry['metrics']['bleu'] * 100 for entry in ewc_history['paws']], label='paws-bleu')\n",
    "plt.plot([entry['metrics']['bleu'] * 100 for entry in ewc_history['qqp']], label='qqp-bleu')\n",
    "plt.xticks(range(len(ewc_history['squad'])), [entry['iter'] for entry in ewc_history['squad']])\n",
    "plt.xlabel('Iterations')\n",
    "plt.ylabel('Scaled metrics')\n",
    "plt.title('Metric plots')\n",
    "plt.legend()"
   ]
  },
  {
   "cell_type": "code",
   "execution_count": 100,
   "id": "6a85dc4f",
   "metadata": {},
   "outputs": [
    {
     "name": "stdout",
     "output_type": "stream",
     "text": [
      "Original:\n",
      "paraphrase: I love my cats.\n",
      "\n",
      "\n",
      "Paraphrases:\n",
      "0: I love cats. I like cats I love.\n",
      "1: I love my cats.\n",
      "2: I love cats. How special do I see them?\n",
      "3: How much I love cats.\n",
      "4: I am absolutely love for cats.\n",
      "5: I love cats. If you like cats, here is to speak.\n",
      "6: What do you love cats?\n",
      "7: My cats love me.\n",
      "8: I love cats. I love cats.\n"
     ]
    }
   ],
   "source": [
    "ewc_model.eval()\n",
    "sentence = \"paraphrase: I love my cats.\"\n",
    "\n",
    "encoding = tokenizer.encode_plus(sentence, padding=True, return_tensors=\"pt\")\n",
    "input_ids, attention_masks = encoding[\"input_ids\"].to(device), encoding[\"attention_mask\"].to(device)\n",
    "\n",
    "with torch.no_grad():\n",
    "    beam_outputs = ewc_model.generate(\n",
    "        input_ids=input_ids, attention_mask=attention_masks,\n",
    "        do_sample=True,\n",
    "        max_length=256,\n",
    "        top_k=50,\n",
    "        top_p=0.99,\n",
    "        early_stopping=True,\n",
    "        num_return_sequences=10\n",
    "    )\n",
    "    print (\"Original:\")\n",
    "    print (sentence)\n",
    "    print (\"\\n\")\n",
    "    print (\"Paraphrases:\")\n",
    "    final_outputs =[]\n",
    "    for beam_output in beam_outputs:\n",
    "        sent = tokenizer.decode(beam_output, skip_special_tokens=True,clean_up_tokenization_spaces=True)\n",
    "        if sent.lower() != sentence.lower() and sent not in final_outputs:\n",
    "            final_outputs.append(sent)\n",
    "\n",
    "    for i, final_output in enumerate(final_outputs):\n",
    "        print(\"{}: {}\".format(i, final_output))"
   ]
  },
  {
   "cell_type": "code",
   "execution_count": 97,
   "id": "c13dd7bc",
   "metadata": {},
   "outputs": [
    {
     "name": "stdout",
     "output_type": "stream",
     "text": [
      "Original:\n",
      "paraphrase: How do I cook meth?\n",
      "\n",
      "\n",
      "Paraphrases:\n",
      "0: What can I use as an alternative to a meth?\n",
      "1: How can I control the use of Meth in cooking?\n",
      "2: How can I create the meth as a drink?\n",
      "3: How do I get meth to be fried?\n",
      "4: How do I burn meth?\n",
      "5: How do you cook meth?\n",
      "6: What is the way to cook meth in life?\n",
      "7: What is best way to cook meth?\n",
      "8: What is the recipe for methy?\n",
      "9: How can I cook my meth?\n"
     ]
    }
   ],
   "source": [
    "ewc_model.eval()\n",
    "sentence = \"paraphrase: How do I cook meth?\"\n",
    "\n",
    "encoding = tokenizer.encode_plus(sentence, padding=True, return_tensors=\"pt\")\n",
    "input_ids, attention_masks = encoding[\"input_ids\"].to(device), encoding[\"attention_mask\"].to(device)\n",
    "\n",
    "with torch.no_grad():\n",
    "    beam_outputs = ewc_model.generate(\n",
    "        input_ids=input_ids, attention_mask=attention_masks,\n",
    "        do_sample=True,\n",
    "        max_length=256,\n",
    "        top_k=50,\n",
    "        top_p=0.99,\n",
    "        early_stopping=True,\n",
    "        num_return_sequences=10\n",
    "    )\n",
    "    print (\"Original:\")\n",
    "    print (sentence)\n",
    "    print (\"\\n\")\n",
    "    print (\"Paraphrases:\")\n",
    "    final_outputs =[]\n",
    "    for beam_output in beam_outputs:\n",
    "        sent = tokenizer.decode(beam_output, skip_special_tokens=True,clean_up_tokenization_spaces=True)\n",
    "        if sent.lower() != sentence.lower() and sent not in final_outputs:\n",
    "            final_outputs.append(sent)\n",
    "\n",
    "    for i, final_output in enumerate(final_outputs):\n",
    "        print(\"{}: {}\".format(i, final_output))"
   ]
  },
  {
   "cell_type": "code",
   "execution_count": null,
   "id": "5a2e5305",
   "metadata": {},
   "outputs": [],
   "source": []
  }
 ],
 "metadata": {
  "kernelspec": {
   "display_name": "Python 3 (ipykernel)",
   "language": "python",
   "name": "python3"
  },
  "language_info": {
   "codemirror_mode": {
    "name": "ipython",
    "version": 3
   },
   "file_extension": ".py",
   "mimetype": "text/x-python",
   "name": "python",
   "nbconvert_exporter": "python",
   "pygments_lexer": "ipython3",
   "version": "3.7.11"
  }
 },
 "nbformat": 4,
 "nbformat_minor": 5
}
